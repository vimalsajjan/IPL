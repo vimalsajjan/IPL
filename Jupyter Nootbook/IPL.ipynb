{
 "cells": [
  {
   "cell_type": "markdown",
   "metadata": {},
   "source": [
    "# Prediction of IPL Score (Teams Batting First) using Supervised Machine Learning Algorithms "
   ]
  },
  {
   "cell_type": "markdown",
   "metadata": {},
   "source": [
    "Demonstration of how efficiently Supervised Machine Learning Algorithms can perform in solving a regression problem using IPL Dataset (https://www.kaggle.com/vimalsajjan/ipldata).\n",
    "\n",
    "Features of the Dataset are as follows:\n",
    "\n",
    "1. mid: Unique match id.\n",
    "\n",
    "2. date: Date of match.\n",
    "\n",
    "3. venue: Name of the Stadium.\n",
    "\n",
    "4. battingteam: Name of the Batting team.\n",
    "\n",
    "5. bowlingteam: Name of the Bowling team name.\n",
    "\n",
    "6. batsman: Batsman who faced that particular ball.\n",
    "\n",
    "7. bowler: Bowler who bowled that particular ball.\n",
    "\n",
    "8. runs: Runs scored by team till that point.\n",
    "\n",
    "9. wickets: Number of Wickets fallen of the team till that point.\n",
    "\n",
    "10. overs: Number of Overs bowled till that point.\n",
    "\n",
    "11. runslast5: Runs scored in last 5 overs.\n",
    "\n",
    "12. wicketslast5: Number of Wickets that fell in last 5 overs.\n",
    "\n",
    "13. striker: max(runs scored by striker, runs scored by non-striker).\n",
    "\n",
    "14. non-striker: min(runs scored by striker, runs scored by non-striker).\n",
    "\n",
    "15. total: Total runs scored by batting team first."
   ]
  },
  {
   "cell_type": "markdown",
   "metadata": {},
   "source": [
    "# Import Libraries and reading data into dataframes"
   ]
  },
  {
   "cell_type": "code",
   "execution_count": 1,
   "metadata": {},
   "outputs": [],
   "source": [
    "#pandas and numpy libraries are imported\n",
    "\n",
    "import pandas as pd\n",
    "import numpy as np"
   ]
  },
  {
   "cell_type": "code",
   "execution_count": 2,
   "metadata": {},
   "outputs": [
    {
     "name": "stdout",
     "output_type": "stream",
     "text": [
      "Shape of the IPLdata: (76014, 15)\n"
     ]
    }
   ],
   "source": [
    "#Reading the data into dataframes and shape of the dataset is shown\n",
    "\n",
    "IPLdata = pd.read_csv('IPLdata\\IPLdata.csv')\n",
    "print(\"Shape of the IPLdata:\", IPLdata.shape)"
   ]
  },
  {
   "cell_type": "markdown",
   "metadata": {},
   "source": [
    "# Data Analysis"
   ]
  },
  {
   "cell_type": "code",
   "execution_count": 3,
   "metadata": {},
   "outputs": [
    {
     "data": {
      "text/html": [
       "<div>\n",
       "<style scoped>\n",
       "    .dataframe tbody tr th:only-of-type {\n",
       "        vertical-align: middle;\n",
       "    }\n",
       "\n",
       "    .dataframe tbody tr th {\n",
       "        vertical-align: top;\n",
       "    }\n",
       "\n",
       "    .dataframe thead th {\n",
       "        text-align: right;\n",
       "    }\n",
       "</style>\n",
       "<table border=\"1\" class=\"dataframe\">\n",
       "  <thead>\n",
       "    <tr style=\"text-align: right;\">\n",
       "      <th></th>\n",
       "      <th>mid</th>\n",
       "      <th>date</th>\n",
       "      <th>venue</th>\n",
       "      <th>batting_team</th>\n",
       "      <th>bowling_team</th>\n",
       "      <th>batsman</th>\n",
       "      <th>bowler</th>\n",
       "      <th>runs</th>\n",
       "      <th>wickets</th>\n",
       "      <th>overs</th>\n",
       "      <th>runs_last_5</th>\n",
       "      <th>wickets_last_5</th>\n",
       "      <th>striker</th>\n",
       "      <th>non-striker</th>\n",
       "      <th>total</th>\n",
       "    </tr>\n",
       "  </thead>\n",
       "  <tbody>\n",
       "    <tr>\n",
       "      <th>52385</th>\n",
       "      <td>425</td>\n",
       "      <td>2014-05-13</td>\n",
       "      <td>JSCA International Stadium Complex</td>\n",
       "      <td>Rajasthan Royals</td>\n",
       "      <td>Chennai Super Kings</td>\n",
       "      <td>DH Yagnik</td>\n",
       "      <td>MM Sharma</td>\n",
       "      <td>141</td>\n",
       "      <td>7</td>\n",
       "      <td>19.1</td>\n",
       "      <td>34</td>\n",
       "      <td>4</td>\n",
       "      <td>3</td>\n",
       "      <td>1</td>\n",
       "      <td>148</td>\n",
       "    </tr>\n",
       "    <tr>\n",
       "      <th>6380</th>\n",
       "      <td>53</td>\n",
       "      <td>2008-05-27</td>\n",
       "      <td>Rajiv Gandhi International Stadium, Uppal</td>\n",
       "      <td>Deccan Chargers</td>\n",
       "      <td>Chennai Super Kings</td>\n",
       "      <td>AC Gilchrist</td>\n",
       "      <td>MS Gony</td>\n",
       "      <td>2</td>\n",
       "      <td>0</td>\n",
       "      <td>1.2</td>\n",
       "      <td>2</td>\n",
       "      <td>0</td>\n",
       "      <td>2</td>\n",
       "      <td>0</td>\n",
       "      <td>147</td>\n",
       "    </tr>\n",
       "    <tr>\n",
       "      <th>11384</th>\n",
       "      <td>93</td>\n",
       "      <td>2009-05-12</td>\n",
       "      <td>SuperSport Park</td>\n",
       "      <td>Kings XI Punjab</td>\n",
       "      <td>Mumbai Indians</td>\n",
       "      <td>KC Sangakkara</td>\n",
       "      <td>Harbhajan Singh</td>\n",
       "      <td>62</td>\n",
       "      <td>3</td>\n",
       "      <td>7.5</td>\n",
       "      <td>40</td>\n",
       "      <td>1</td>\n",
       "      <td>5</td>\n",
       "      <td>4</td>\n",
       "      <td>119</td>\n",
       "    </tr>\n",
       "    <tr>\n",
       "      <th>32813</th>\n",
       "      <td>266</td>\n",
       "      <td>2012-04-21</td>\n",
       "      <td>MA Chidambaram Stadium, Chepauk</td>\n",
       "      <td>Rajasthan Royals</td>\n",
       "      <td>Chennai Super Kings</td>\n",
       "      <td>OA Shah</td>\n",
       "      <td>DE Bollinger</td>\n",
       "      <td>116</td>\n",
       "      <td>2</td>\n",
       "      <td>15.4</td>\n",
       "      <td>45</td>\n",
       "      <td>0</td>\n",
       "      <td>42</td>\n",
       "      <td>21</td>\n",
       "      <td>146</td>\n",
       "    </tr>\n",
       "    <tr>\n",
       "      <th>32399</th>\n",
       "      <td>263</td>\n",
       "      <td>2012-05-10</td>\n",
       "      <td>Rajiv Gandhi International Stadium, Uppal</td>\n",
       "      <td>Deccan Chargers</td>\n",
       "      <td>Delhi Daredevils</td>\n",
       "      <td>CL White</td>\n",
       "      <td>S Nadeem</td>\n",
       "      <td>50</td>\n",
       "      <td>2</td>\n",
       "      <td>7.6</td>\n",
       "      <td>31</td>\n",
       "      <td>2</td>\n",
       "      <td>14</td>\n",
       "      <td>13</td>\n",
       "      <td>187</td>\n",
       "    </tr>\n",
       "  </tbody>\n",
       "</table>\n",
       "</div>"
      ],
      "text/plain": [
       "       mid        date                                      venue  \\\n",
       "52385  425  2014-05-13         JSCA International Stadium Complex   \n",
       "6380    53  2008-05-27  Rajiv Gandhi International Stadium, Uppal   \n",
       "11384   93  2009-05-12                            SuperSport Park   \n",
       "32813  266  2012-04-21            MA Chidambaram Stadium, Chepauk   \n",
       "32399  263  2012-05-10  Rajiv Gandhi International Stadium, Uppal   \n",
       "\n",
       "           batting_team         bowling_team        batsman           bowler  \\\n",
       "52385  Rajasthan Royals  Chennai Super Kings      DH Yagnik        MM Sharma   \n",
       "6380    Deccan Chargers  Chennai Super Kings   AC Gilchrist          MS Gony   \n",
       "11384   Kings XI Punjab       Mumbai Indians  KC Sangakkara  Harbhajan Singh   \n",
       "32813  Rajasthan Royals  Chennai Super Kings        OA Shah     DE Bollinger   \n",
       "32399   Deccan Chargers     Delhi Daredevils       CL White         S Nadeem   \n",
       "\n",
       "       runs  wickets  overs  runs_last_5  wickets_last_5  striker  \\\n",
       "52385   141        7   19.1           34               4        3   \n",
       "6380      2        0    1.2            2               0        2   \n",
       "11384    62        3    7.5           40               1        5   \n",
       "32813   116        2   15.4           45               0       42   \n",
       "32399    50        2    7.6           31               2       14   \n",
       "\n",
       "       non-striker  total  \n",
       "52385            1    148  \n",
       "6380             0    147  \n",
       "11384            4    119  \n",
       "32813           21    146  \n",
       "32399           13    187  "
      ]
     },
     "execution_count": 3,
     "metadata": {},
     "output_type": "execute_result"
    }
   ],
   "source": [
    "#random 5 rows of the IPLdata is displayed\n",
    "\n",
    "IPLdata.sample(5)"
   ]
  },
  {
   "cell_type": "code",
   "execution_count": 4,
   "metadata": {},
   "outputs": [
    {
     "data": {
      "text/html": [
       "<div>\n",
       "<style scoped>\n",
       "    .dataframe tbody tr th:only-of-type {\n",
       "        vertical-align: middle;\n",
       "    }\n",
       "\n",
       "    .dataframe tbody tr th {\n",
       "        vertical-align: top;\n",
       "    }\n",
       "\n",
       "    .dataframe thead th {\n",
       "        text-align: right;\n",
       "    }\n",
       "</style>\n",
       "<table border=\"1\" class=\"dataframe\">\n",
       "  <thead>\n",
       "    <tr style=\"text-align: right;\">\n",
       "      <th></th>\n",
       "      <th>mid</th>\n",
       "      <th>runs</th>\n",
       "      <th>wickets</th>\n",
       "      <th>overs</th>\n",
       "      <th>runs_last_5</th>\n",
       "      <th>wickets_last_5</th>\n",
       "      <th>striker</th>\n",
       "      <th>non-striker</th>\n",
       "      <th>total</th>\n",
       "    </tr>\n",
       "  </thead>\n",
       "  <tbody>\n",
       "    <tr>\n",
       "      <th>count</th>\n",
       "      <td>76014.000000</td>\n",
       "      <td>76014.000000</td>\n",
       "      <td>76014.000000</td>\n",
       "      <td>76014.000000</td>\n",
       "      <td>76014.000000</td>\n",
       "      <td>76014.000000</td>\n",
       "      <td>76014.000000</td>\n",
       "      <td>76014.000000</td>\n",
       "      <td>76014.000000</td>\n",
       "    </tr>\n",
       "    <tr>\n",
       "      <th>mean</th>\n",
       "      <td>308.627740</td>\n",
       "      <td>74.889349</td>\n",
       "      <td>2.415844</td>\n",
       "      <td>9.783068</td>\n",
       "      <td>33.216434</td>\n",
       "      <td>1.120307</td>\n",
       "      <td>24.962283</td>\n",
       "      <td>8.869287</td>\n",
       "      <td>160.901452</td>\n",
       "    </tr>\n",
       "    <tr>\n",
       "      <th>std</th>\n",
       "      <td>178.156878</td>\n",
       "      <td>48.823327</td>\n",
       "      <td>2.015207</td>\n",
       "      <td>5.772587</td>\n",
       "      <td>14.914174</td>\n",
       "      <td>1.053343</td>\n",
       "      <td>20.079752</td>\n",
       "      <td>10.795742</td>\n",
       "      <td>29.246231</td>\n",
       "    </tr>\n",
       "    <tr>\n",
       "      <th>min</th>\n",
       "      <td>1.000000</td>\n",
       "      <td>0.000000</td>\n",
       "      <td>0.000000</td>\n",
       "      <td>0.000000</td>\n",
       "      <td>0.000000</td>\n",
       "      <td>0.000000</td>\n",
       "      <td>0.000000</td>\n",
       "      <td>0.000000</td>\n",
       "      <td>67.000000</td>\n",
       "    </tr>\n",
       "    <tr>\n",
       "      <th>25%</th>\n",
       "      <td>154.000000</td>\n",
       "      <td>34.000000</td>\n",
       "      <td>1.000000</td>\n",
       "      <td>4.600000</td>\n",
       "      <td>24.000000</td>\n",
       "      <td>0.000000</td>\n",
       "      <td>10.000000</td>\n",
       "      <td>1.000000</td>\n",
       "      <td>142.000000</td>\n",
       "    </tr>\n",
       "    <tr>\n",
       "      <th>50%</th>\n",
       "      <td>308.000000</td>\n",
       "      <td>70.000000</td>\n",
       "      <td>2.000000</td>\n",
       "      <td>9.600000</td>\n",
       "      <td>34.000000</td>\n",
       "      <td>1.000000</td>\n",
       "      <td>20.000000</td>\n",
       "      <td>5.000000</td>\n",
       "      <td>162.000000</td>\n",
       "    </tr>\n",
       "    <tr>\n",
       "      <th>75%</th>\n",
       "      <td>463.000000</td>\n",
       "      <td>111.000000</td>\n",
       "      <td>4.000000</td>\n",
       "      <td>14.600000</td>\n",
       "      <td>43.000000</td>\n",
       "      <td>2.000000</td>\n",
       "      <td>35.000000</td>\n",
       "      <td>13.000000</td>\n",
       "      <td>181.000000</td>\n",
       "    </tr>\n",
       "    <tr>\n",
       "      <th>max</th>\n",
       "      <td>617.000000</td>\n",
       "      <td>263.000000</td>\n",
       "      <td>10.000000</td>\n",
       "      <td>19.600000</td>\n",
       "      <td>113.000000</td>\n",
       "      <td>7.000000</td>\n",
       "      <td>175.000000</td>\n",
       "      <td>109.000000</td>\n",
       "      <td>263.000000</td>\n",
       "    </tr>\n",
       "  </tbody>\n",
       "</table>\n",
       "</div>"
      ],
      "text/plain": [
       "                mid          runs       wickets         overs   runs_last_5  \\\n",
       "count  76014.000000  76014.000000  76014.000000  76014.000000  76014.000000   \n",
       "mean     308.627740     74.889349      2.415844      9.783068     33.216434   \n",
       "std      178.156878     48.823327      2.015207      5.772587     14.914174   \n",
       "min        1.000000      0.000000      0.000000      0.000000      0.000000   \n",
       "25%      154.000000     34.000000      1.000000      4.600000     24.000000   \n",
       "50%      308.000000     70.000000      2.000000      9.600000     34.000000   \n",
       "75%      463.000000    111.000000      4.000000     14.600000     43.000000   \n",
       "max      617.000000    263.000000     10.000000     19.600000    113.000000   \n",
       "\n",
       "       wickets_last_5       striker   non-striker         total  \n",
       "count    76014.000000  76014.000000  76014.000000  76014.000000  \n",
       "mean         1.120307     24.962283      8.869287    160.901452  \n",
       "std          1.053343     20.079752     10.795742     29.246231  \n",
       "min          0.000000      0.000000      0.000000     67.000000  \n",
       "25%          0.000000     10.000000      1.000000    142.000000  \n",
       "50%          1.000000     20.000000      5.000000    162.000000  \n",
       "75%          2.000000     35.000000     13.000000    181.000000  \n",
       "max          7.000000    175.000000    109.000000    263.000000  "
      ]
     },
     "execution_count": 4,
     "metadata": {},
     "output_type": "execute_result"
    }
   ],
   "source": [
    "#Numerical Values of the IPLdata\n",
    "\n",
    "IPLdata.describe()"
   ]
  },
  {
   "cell_type": "code",
   "execution_count": 5,
   "metadata": {},
   "outputs": [
    {
     "name": "stdout",
     "output_type": "stream",
     "text": [
      "<class 'pandas.core.frame.DataFrame'>\n",
      "RangeIndex: 76014 entries, 0 to 76013\n",
      "Data columns (total 15 columns):\n",
      " #   Column          Non-Null Count  Dtype  \n",
      "---  ------          --------------  -----  \n",
      " 0   mid             76014 non-null  int64  \n",
      " 1   date            76014 non-null  object \n",
      " 2   venue           76014 non-null  object \n",
      " 3   batting_team    76014 non-null  object \n",
      " 4   bowling_team    76014 non-null  object \n",
      " 5   batsman         76014 non-null  object \n",
      " 6   bowler          76014 non-null  object \n",
      " 7   runs            76014 non-null  int64  \n",
      " 8   wickets         76014 non-null  int64  \n",
      " 9   overs           76014 non-null  float64\n",
      " 10  runs_last_5     76014 non-null  int64  \n",
      " 11  wickets_last_5  76014 non-null  int64  \n",
      " 12  striker         76014 non-null  int64  \n",
      " 13  non-striker     76014 non-null  int64  \n",
      " 14  total           76014 non-null  int64  \n",
      "dtypes: float64(1), int64(8), object(6)\n",
      "memory usage: 8.7+ MB\n"
     ]
    }
   ],
   "source": [
    "#Data types and not null counts of the features are displayed\n",
    "\n",
    "IPLdata.info()"
   ]
  },
  {
   "cell_type": "code",
   "execution_count": 6,
   "metadata": {},
   "outputs": [
    {
     "data": {
      "text/plain": [
       "mid               617\n",
       "date              442\n",
       "venue              35\n",
       "batting_team       14\n",
       "bowling_team       14\n",
       "batsman           411\n",
       "bowler            329\n",
       "runs              252\n",
       "wickets            11\n",
       "overs             140\n",
       "runs_last_5       102\n",
       "wickets_last_5      8\n",
       "striker           155\n",
       "non-striker        88\n",
       "total             138\n",
       "dtype: int64"
      ]
     },
     "execution_count": 6,
     "metadata": {},
     "output_type": "execute_result"
    }
   ],
   "source": [
    "# count of Unique Values in each feature\n",
    "\n",
    "IPLdata.nunique()"
   ]
  },
  {
   "cell_type": "code",
   "execution_count": 7,
   "metadata": {},
   "outputs": [
    {
     "data": {
      "text/plain": [
       "mid                 int64\n",
       "date               object\n",
       "venue              object\n",
       "batting_team       object\n",
       "bowling_team       object\n",
       "batsman            object\n",
       "bowler             object\n",
       "runs                int64\n",
       "wickets             int64\n",
       "overs             float64\n",
       "runs_last_5         int64\n",
       "wickets_last_5      int64\n",
       "striker             int64\n",
       "non-striker         int64\n",
       "total               int64\n",
       "dtype: object"
      ]
     },
     "execution_count": 7,
     "metadata": {},
     "output_type": "execute_result"
    }
   ],
   "source": [
    "# Datatypes of all the features\n",
    "\n",
    "IPLdata.dtypes"
   ]
  },
  {
   "cell_type": "markdown",
   "metadata": {},
   "source": [
    "# Cleaning Data "
   ]
  },
  {
   "cell_type": "code",
   "execution_count": 8,
   "metadata": {},
   "outputs": [
    {
     "data": {
      "text/plain": [
       "Index(['mid', 'date', 'venue', 'batting_team', 'bowling_team', 'batsman',\n",
       "       'bowler', 'runs', 'wickets', 'overs', 'runs_last_5', 'wickets_last_5',\n",
       "       'striker', 'non-striker', 'total'],\n",
       "      dtype='object')"
      ]
     },
     "execution_count": 8,
     "metadata": {},
     "output_type": "execute_result"
    }
   ],
   "source": [
    "# list of all features\n",
    "\n",
    "IPLdata.columns"
   ]
  },
  {
   "cell_type": "code",
   "execution_count": 9,
   "metadata": {},
   "outputs": [
    {
     "name": "stdout",
     "output_type": "stream",
     "text": [
      "Before dropping unrelated features : (76014, 15)\n",
      "After dropping unrelated features : (76014, 8)\n"
     ]
    }
   ],
   "source": [
    "#There are some features such as mid, date, venue, batsman, bowler and stricker, that are not useful for the prediction of score\n",
    "\n",
    "unrelated_features = ['mid', 'date', 'venue','batsman', 'bowler', 'striker', 'non-striker']\n",
    "print(\"Before dropping unrelated features :\", IPLdata.shape)\n",
    "\n",
    "# Dropping unrelated features\n",
    "\n",
    "IPLdata = IPLdata.drop(unrelated_features, axis=1) \n",
    "print(\"After dropping unrelated features :\", IPLdata.shape)\n"
   ]
  },
  {
   "cell_type": "code",
   "execution_count": 10,
   "metadata": {},
   "outputs": [
    {
     "data": {
      "text/html": [
       "<div>\n",
       "<style scoped>\n",
       "    .dataframe tbody tr th:only-of-type {\n",
       "        vertical-align: middle;\n",
       "    }\n",
       "\n",
       "    .dataframe tbody tr th {\n",
       "        vertical-align: top;\n",
       "    }\n",
       "\n",
       "    .dataframe thead th {\n",
       "        text-align: right;\n",
       "    }\n",
       "</style>\n",
       "<table border=\"1\" class=\"dataframe\">\n",
       "  <thead>\n",
       "    <tr style=\"text-align: right;\">\n",
       "      <th></th>\n",
       "      <th>batting_team</th>\n",
       "      <th>bowling_team</th>\n",
       "      <th>runs</th>\n",
       "      <th>wickets</th>\n",
       "      <th>overs</th>\n",
       "      <th>runs_last_5</th>\n",
       "      <th>wickets_last_5</th>\n",
       "      <th>total</th>\n",
       "    </tr>\n",
       "  </thead>\n",
       "  <tbody>\n",
       "    <tr>\n",
       "      <th>16353</th>\n",
       "      <td>Delhi Daredevils</td>\n",
       "      <td>Royal Challengers Bangalore</td>\n",
       "      <td>35</td>\n",
       "      <td>0</td>\n",
       "      <td>2.4</td>\n",
       "      <td>35</td>\n",
       "      <td>0</td>\n",
       "      <td>183</td>\n",
       "    </tr>\n",
       "    <tr>\n",
       "      <th>72103</th>\n",
       "      <td>Kolkata Knight Riders</td>\n",
       "      <td>Royal Challengers Bangalore</td>\n",
       "      <td>8</td>\n",
       "      <td>0</td>\n",
       "      <td>0.3</td>\n",
       "      <td>8</td>\n",
       "      <td>0</td>\n",
       "      <td>131</td>\n",
       "    </tr>\n",
       "    <tr>\n",
       "      <th>12414</th>\n",
       "      <td>Delhi Daredevils</td>\n",
       "      <td>Rajasthan Royals</td>\n",
       "      <td>88</td>\n",
       "      <td>2</td>\n",
       "      <td>13.4</td>\n",
       "      <td>38</td>\n",
       "      <td>0</td>\n",
       "      <td>150</td>\n",
       "    </tr>\n",
       "    <tr>\n",
       "      <th>303</th>\n",
       "      <td>Rajasthan Royals</td>\n",
       "      <td>Delhi Daredevils</td>\n",
       "      <td>52</td>\n",
       "      <td>4</td>\n",
       "      <td>9.1</td>\n",
       "      <td>21</td>\n",
       "      <td>2</td>\n",
       "      <td>129</td>\n",
       "    </tr>\n",
       "    <tr>\n",
       "      <th>49803</th>\n",
       "      <td>Kings XI Punjab</td>\n",
       "      <td>Kolkata Knight Riders</td>\n",
       "      <td>132</td>\n",
       "      <td>9</td>\n",
       "      <td>19.5</td>\n",
       "      <td>22</td>\n",
       "      <td>3</td>\n",
       "      <td>132</td>\n",
       "    </tr>\n",
       "  </tbody>\n",
       "</table>\n",
       "</div>"
      ],
      "text/plain": [
       "                batting_team                 bowling_team  runs  wickets  \\\n",
       "16353       Delhi Daredevils  Royal Challengers Bangalore    35        0   \n",
       "72103  Kolkata Knight Riders  Royal Challengers Bangalore     8        0   \n",
       "12414       Delhi Daredevils             Rajasthan Royals    88        2   \n",
       "303         Rajasthan Royals             Delhi Daredevils    52        4   \n",
       "49803        Kings XI Punjab        Kolkata Knight Riders   132        9   \n",
       "\n",
       "       overs  runs_last_5  wickets_last_5  total  \n",
       "16353    2.4           35               0    183  \n",
       "72103    0.3            8               0    131  \n",
       "12414   13.4           38               0    150  \n",
       "303      9.1           21               2    129  \n",
       "49803   19.5           22               3    132  "
      ]
     },
     "execution_count": 10,
     "metadata": {},
     "output_type": "execute_result"
    }
   ],
   "source": [
    "IPLdata.sample(5)"
   ]
  },
  {
   "cell_type": "code",
   "execution_count": 11,
   "metadata": {},
   "outputs": [],
   "source": [
    "# Choosing only teams which are available in most seasons \n",
    "\n",
    "teams = ['Chennai Super Kings', 'Mumbai Indians', 'Rajasthan Royals', 'Kolkata Knight Riders', \n",
    "         'Kings XI Punjab', 'Sunrisers Hyderabad', 'Delhi Daredevils','Royal Challengers Bangalore']"
   ]
  },
  {
   "cell_type": "code",
   "execution_count": 12,
   "metadata": {},
   "outputs": [
    {
     "name": "stdout",
     "output_type": "stream",
     "text": [
      "Before deleting the teams which are not available in most seasons:\n",
      " (76014, 8)\n",
      "After deleting the teams which are not available in most seasons:\n",
      " (53811, 8)\n",
      "\n",
      "Teams which are available in most seasons : \n",
      "\n",
      " Batting Teams : \n",
      "\n",
      " ['Kolkata Knight Riders' 'Chennai Super Kings' 'Rajasthan Royals'\n",
      " 'Mumbai Indians' 'Kings XI Punjab' 'Royal Challengers Bangalore'\n",
      " 'Delhi Daredevils' 'Sunrisers Hyderabad'] \n",
      "\n",
      " Bowling Teams: \n",
      "\n",
      " ['Royal Challengers Bangalore' 'Kings XI Punjab' 'Delhi Daredevils'\n",
      " 'Rajasthan Royals' 'Mumbai Indians' 'Chennai Super Kings'\n",
      " 'Kolkata Knight Riders' 'Sunrisers Hyderabad']\n"
     ]
    }
   ],
   "source": [
    "print(\"Before deleting the teams which are not available in most seasons:\\n\" , IPLdata.shape)\n",
    "\n",
    "# isin() is a method that helps in selecting rows with having a particular value in a particular column.\n",
    "\n",
    "IPLdata = IPLdata[(IPLdata['batting_team'].isin(teams)) & (IPLdata['bowling_team'].isin(teams))]\n",
    "\n",
    "print(\"After deleting the teams which are not available in most seasons:\\n\" , IPLdata.shape)\n",
    "\n",
    "print(\"\\nTeams which are available in most seasons : \\n\\n\" , \n",
    "      \"Batting Teams : \\n\\n\",IPLdata['batting_team'].unique(),\"\\n\\n Bowling Teams: \\n\\n\",IPLdata['bowling_team'].unique())"
   ]
  },
  {
   "cell_type": "code",
   "execution_count": 13,
   "metadata": {},
   "outputs": [
    {
     "data": {
      "text/html": [
       "<div>\n",
       "<style scoped>\n",
       "    .dataframe tbody tr th:only-of-type {\n",
       "        vertical-align: middle;\n",
       "    }\n",
       "\n",
       "    .dataframe tbody tr th {\n",
       "        vertical-align: top;\n",
       "    }\n",
       "\n",
       "    .dataframe thead th {\n",
       "        text-align: right;\n",
       "    }\n",
       "</style>\n",
       "<table border=\"1\" class=\"dataframe\">\n",
       "  <thead>\n",
       "    <tr style=\"text-align: right;\">\n",
       "      <th></th>\n",
       "      <th>batting_team</th>\n",
       "      <th>bowling_team</th>\n",
       "      <th>runs</th>\n",
       "      <th>wickets</th>\n",
       "      <th>overs</th>\n",
       "      <th>runs_last_5</th>\n",
       "      <th>wickets_last_5</th>\n",
       "      <th>total</th>\n",
       "    </tr>\n",
       "  </thead>\n",
       "  <tbody>\n",
       "    <tr>\n",
       "      <th>74276</th>\n",
       "      <td>Mumbai Indians</td>\n",
       "      <td>Delhi Daredevils</td>\n",
       "      <td>155</td>\n",
       "      <td>3</td>\n",
       "      <td>15.6</td>\n",
       "      <td>57</td>\n",
       "      <td>2</td>\n",
       "      <td>212</td>\n",
       "    </tr>\n",
       "    <tr>\n",
       "      <th>57154</th>\n",
       "      <td>Chennai Super Kings</td>\n",
       "      <td>Rajasthan Royals</td>\n",
       "      <td>68</td>\n",
       "      <td>4</td>\n",
       "      <td>10.2</td>\n",
       "      <td>30</td>\n",
       "      <td>3</td>\n",
       "      <td>156</td>\n",
       "    </tr>\n",
       "    <tr>\n",
       "      <th>56441</th>\n",
       "      <td>Chennai Super Kings</td>\n",
       "      <td>Kolkata Knight Riders</td>\n",
       "      <td>125</td>\n",
       "      <td>5</td>\n",
       "      <td>15.3</td>\n",
       "      <td>32</td>\n",
       "      <td>0</td>\n",
       "      <td>165</td>\n",
       "    </tr>\n",
       "    <tr>\n",
       "      <th>2000</th>\n",
       "      <td>Delhi Daredevils</td>\n",
       "      <td>Royal Challengers Bangalore</td>\n",
       "      <td>37</td>\n",
       "      <td>0</td>\n",
       "      <td>3.2</td>\n",
       "      <td>37</td>\n",
       "      <td>0</td>\n",
       "      <td>191</td>\n",
       "    </tr>\n",
       "    <tr>\n",
       "      <th>59337</th>\n",
       "      <td>Rajasthan Royals</td>\n",
       "      <td>Delhi Daredevils</td>\n",
       "      <td>79</td>\n",
       "      <td>1</td>\n",
       "      <td>10.4</td>\n",
       "      <td>38</td>\n",
       "      <td>1</td>\n",
       "      <td>189</td>\n",
       "    </tr>\n",
       "  </tbody>\n",
       "</table>\n",
       "</div>"
      ],
      "text/plain": [
       "              batting_team                 bowling_team  runs  wickets  overs  \\\n",
       "74276       Mumbai Indians             Delhi Daredevils   155        3   15.6   \n",
       "57154  Chennai Super Kings             Rajasthan Royals    68        4   10.2   \n",
       "56441  Chennai Super Kings        Kolkata Knight Riders   125        5   15.3   \n",
       "2000      Delhi Daredevils  Royal Challengers Bangalore    37        0    3.2   \n",
       "59337     Rajasthan Royals             Delhi Daredevils    79        1   10.4   \n",
       "\n",
       "       runs_last_5  wickets_last_5  total  \n",
       "74276           57               2    212  \n",
       "57154           30               3    156  \n",
       "56441           32               0    165  \n",
       "2000            37               0    191  \n",
       "59337           38               1    189  "
      ]
     },
     "execution_count": 13,
     "metadata": {},
     "output_type": "execute_result"
    }
   ],
   "source": [
    "IPLdata.sample(5)"
   ]
  },
  {
   "cell_type": "code",
   "execution_count": 14,
   "metadata": {},
   "outputs": [
    {
     "name": "stdout",
     "output_type": "stream",
     "text": [
      "Before deletinig powerplay Overs : (53811, 8)\n",
      "After deleting powerplay Overs : (37389, 8)\n"
     ]
    }
   ],
   "source": [
    "# this dataset has two features runs_last_5 - runs scored in last 5 overs and wickets_last_5- wickets fell in last 5 overs, \n",
    "# in cricket first 6 overs has power play (fielding restructions). To make prediction of score more accurate\n",
    "# or to satisfy the conditions of two features for prediction, first 6 overs are deleted \n",
    "\n",
    "print(\"Before deletinig powerplay Overs :\", IPLdata.shape)\n",
    "\n",
    "IPLdata = IPLdata[IPLdata['overs'] >= 6.0]\n",
    "\n",
    "print(\"After deleting powerplay Overs :\", IPLdata.shape)"
   ]
  },
  {
   "cell_type": "code",
   "execution_count": 15,
   "metadata": {},
   "outputs": [
    {
     "data": {
      "text/html": [
       "<div>\n",
       "<style scoped>\n",
       "    .dataframe tbody tr th:only-of-type {\n",
       "        vertical-align: middle;\n",
       "    }\n",
       "\n",
       "    .dataframe tbody tr th {\n",
       "        vertical-align: top;\n",
       "    }\n",
       "\n",
       "    .dataframe thead th {\n",
       "        text-align: right;\n",
       "    }\n",
       "</style>\n",
       "<table border=\"1\" class=\"dataframe\">\n",
       "  <thead>\n",
       "    <tr style=\"text-align: right;\">\n",
       "      <th></th>\n",
       "      <th>batting_team</th>\n",
       "      <th>bowling_team</th>\n",
       "      <th>runs</th>\n",
       "      <th>wickets</th>\n",
       "      <th>overs</th>\n",
       "      <th>runs_last_5</th>\n",
       "      <th>wickets_last_5</th>\n",
       "      <th>total</th>\n",
       "    </tr>\n",
       "  </thead>\n",
       "  <tbody>\n",
       "    <tr>\n",
       "      <th>10585</th>\n",
       "      <td>Mumbai Indians</td>\n",
       "      <td>Delhi Daredevils</td>\n",
       "      <td>115</td>\n",
       "      <td>9</td>\n",
       "      <td>19.5</td>\n",
       "      <td>37</td>\n",
       "      <td>5</td>\n",
       "      <td>116</td>\n",
       "    </tr>\n",
       "    <tr>\n",
       "      <th>27020</th>\n",
       "      <td>Chennai Super Kings</td>\n",
       "      <td>Rajasthan Royals</td>\n",
       "      <td>72</td>\n",
       "      <td>0</td>\n",
       "      <td>8.3</td>\n",
       "      <td>41</td>\n",
       "      <td>0</td>\n",
       "      <td>196</td>\n",
       "    </tr>\n",
       "    <tr>\n",
       "      <th>5934</th>\n",
       "      <td>Rajasthan Royals</td>\n",
       "      <td>Chennai Super Kings</td>\n",
       "      <td>99</td>\n",
       "      <td>0</td>\n",
       "      <td>9.3</td>\n",
       "      <td>51</td>\n",
       "      <td>0</td>\n",
       "      <td>211</td>\n",
       "    </tr>\n",
       "    <tr>\n",
       "      <th>24989</th>\n",
       "      <td>Mumbai Indians</td>\n",
       "      <td>Rajasthan Royals</td>\n",
       "      <td>94</td>\n",
       "      <td>8</td>\n",
       "      <td>19.6</td>\n",
       "      <td>27</td>\n",
       "      <td>4</td>\n",
       "      <td>94</td>\n",
       "    </tr>\n",
       "    <tr>\n",
       "      <th>200</th>\n",
       "      <td>Chennai Super Kings</td>\n",
       "      <td>Kings XI Punjab</td>\n",
       "      <td>129</td>\n",
       "      <td>4</td>\n",
       "      <td>12.2</td>\n",
       "      <td>66</td>\n",
       "      <td>1</td>\n",
       "      <td>240</td>\n",
       "    </tr>\n",
       "  </tbody>\n",
       "</table>\n",
       "</div>"
      ],
      "text/plain": [
       "              batting_team         bowling_team  runs  wickets  overs  \\\n",
       "10585       Mumbai Indians     Delhi Daredevils   115        9   19.5   \n",
       "27020  Chennai Super Kings     Rajasthan Royals    72        0    8.3   \n",
       "5934      Rajasthan Royals  Chennai Super Kings    99        0    9.3   \n",
       "24989       Mumbai Indians     Rajasthan Royals    94        8   19.6   \n",
       "200    Chennai Super Kings      Kings XI Punjab   129        4   12.2   \n",
       "\n",
       "       runs_last_5  wickets_last_5  total  \n",
       "10585           37               5    116  \n",
       "27020           41               0    196  \n",
       "5934            51               0    211  \n",
       "24989           27               4     94  \n",
       "200             66               1    240  "
      ]
     },
     "execution_count": 15,
     "metadata": {},
     "output_type": "execute_result"
    }
   ],
   "source": [
    "IPLdata.sample(5)"
   ]
  },
  {
   "cell_type": "markdown",
   "metadata": {},
   "source": [
    "# Visualization"
   ]
  },
  {
   "cell_type": "code",
   "execution_count": 16,
   "metadata": {},
   "outputs": [
    {
     "data": {
      "text/plain": [
       "<AxesSubplot:>"
      ]
     },
     "execution_count": 16,
     "metadata": {},
     "output_type": "execute_result"
    },
    {
     "data": {
      "image/png": "[encoded data removed]",
      "text/plain": [
       "<Figure size 720x720 with 2 Axes>"
      ]
     },
     "metadata": {
      "needs_background": "light"
     },
     "output_type": "display_data"
    }
   ],
   "source": [
    "# HeatMap shows the correlation between the features\n",
    "\n",
    "import matplotlib.pyplot as plt\n",
    "import seaborn as sns \n",
    "\n",
    "figure = plt.figure(figsize=(10,10))\n",
    "sns.heatmap(IPLdata.corr(), annot=True, cmap=\"YlGnBu\")"
   ]
  },
  {
   "cell_type": "markdown",
   "metadata": {},
   "source": [
    "# Data Preprocessing"
   ]
  },
  {
   "cell_type": "code",
   "execution_count": 17,
   "metadata": {},
   "outputs": [
    {
     "data": {
      "text/html": [
       "<div>\n",
       "<style scoped>\n",
       "    .dataframe tbody tr th:only-of-type {\n",
       "        vertical-align: middle;\n",
       "    }\n",
       "\n",
       "    .dataframe tbody tr th {\n",
       "        vertical-align: top;\n",
       "    }\n",
       "\n",
       "    .dataframe thead th {\n",
       "        text-align: right;\n",
       "    }\n",
       "</style>\n",
       "<table border=\"1\" class=\"dataframe\">\n",
       "  <thead>\n",
       "    <tr style=\"text-align: right;\">\n",
       "      <th></th>\n",
       "      <th>batting_team</th>\n",
       "      <th>bowling_team</th>\n",
       "      <th>runs</th>\n",
       "      <th>wickets</th>\n",
       "      <th>overs</th>\n",
       "      <th>runs_last_5</th>\n",
       "      <th>wickets_last_5</th>\n",
       "      <th>total</th>\n",
       "    </tr>\n",
       "  </thead>\n",
       "  <tbody>\n",
       "    <tr>\n",
       "      <th>46110</th>\n",
       "      <td>0</td>\n",
       "      <td>5</td>\n",
       "      <td>39</td>\n",
       "      <td>0</td>\n",
       "      <td>6.3</td>\n",
       "      <td>34</td>\n",
       "      <td>0</td>\n",
       "      <td>141</td>\n",
       "    </tr>\n",
       "    <tr>\n",
       "      <th>44062</th>\n",
       "      <td>0</td>\n",
       "      <td>2</td>\n",
       "      <td>125</td>\n",
       "      <td>3</td>\n",
       "      <td>15.4</td>\n",
       "      <td>45</td>\n",
       "      <td>2</td>\n",
       "      <td>186</td>\n",
       "    </tr>\n",
       "    <tr>\n",
       "      <th>29358</th>\n",
       "      <td>6</td>\n",
       "      <td>4</td>\n",
       "      <td>87</td>\n",
       "      <td>0</td>\n",
       "      <td>7.4</td>\n",
       "      <td>43</td>\n",
       "      <td>0</td>\n",
       "      <td>185</td>\n",
       "    </tr>\n",
       "    <tr>\n",
       "      <th>50261</th>\n",
       "      <td>5</td>\n",
       "      <td>3</td>\n",
       "      <td>100</td>\n",
       "      <td>2</td>\n",
       "      <td>14.2</td>\n",
       "      <td>38</td>\n",
       "      <td>0</td>\n",
       "      <td>152</td>\n",
       "    </tr>\n",
       "    <tr>\n",
       "      <th>5935</th>\n",
       "      <td>5</td>\n",
       "      <td>0</td>\n",
       "      <td>100</td>\n",
       "      <td>0</td>\n",
       "      <td>9.4</td>\n",
       "      <td>48</td>\n",
       "      <td>0</td>\n",
       "      <td>211</td>\n",
       "    </tr>\n",
       "  </tbody>\n",
       "</table>\n",
       "</div>"
      ],
      "text/plain": [
       "       batting_team  bowling_team  runs  wickets  overs  runs_last_5  \\\n",
       "46110             0             5    39        0    6.3           34   \n",
       "44062             0             2   125        3   15.4           45   \n",
       "29358             6             4    87        0    7.4           43   \n",
       "50261             5             3   100        2   14.2           38   \n",
       "5935              5             0   100        0    9.4           48   \n",
       "\n",
       "       wickets_last_5  total  \n",
       "46110               0    141  \n",
       "44062               2    186  \n",
       "29358               0    185  \n",
       "50261               0    152  \n",
       "5935                0    211  "
      ]
     },
     "execution_count": 17,
     "metadata": {},
     "output_type": "execute_result"
    }
   ],
   "source": [
    "# Here for features - 'batting_team' and 'bowling_team', the names of the teams are changed into numbers using encoder\n",
    "\n",
    "from sklearn.preprocessing import LabelEncoder, OneHotEncoder\n",
    "LabelEncoder = LabelEncoder()\n",
    "for column in ['batting_team', 'bowling_team']: \n",
    "    IPLdata[column] = LabelEncoder.fit_transform(IPLdata[column])\n",
    "IPLdata.sample(5)"
   ]
  },
  {
   "cell_type": "code",
   "execution_count": 18,
   "metadata": {},
   "outputs": [],
   "source": [
    "# transformation of the column\n",
    "\n",
    "from sklearn.compose import ColumnTransformer\n",
    "columnTransformer = ColumnTransformer([('encoder', OneHotEncoder(), [0, 1])], remainder='passthrough')"
   ]
  },
  {
   "cell_type": "code",
   "execution_count": 19,
   "metadata": {},
   "outputs": [],
   "source": [
    "IPLdata = np.array(columnTransformer.fit_transform(IPLdata))"
   ]
  },
  {
   "cell_type": "code",
   "execution_count": 20,
   "metadata": {},
   "outputs": [],
   "source": [
    "column = ['batting_team_Chennai Super Kings', 'batting_team_Mumbai Indians', 'batting_team_Rajasthan Royals',\n",
    "          'batting_team_Kolkata Knight Riders', 'batting_team_Kings XI Punjab', 'batting_team_Sunrisers Hyderabad',\n",
    "          'batting_team_Delhi Daredevils','batting_team_Royal Challengers Bangalore',\n",
    "          \n",
    "          'bowling_team_Chennai Super Kings', 'bowling_team_Mumbai Indians','bowling_team_Rajasthan Royals',\n",
    "          'bowling_team_Kolkata Knight Riders', 'bowling_team_Kings XI Punjab','bowling_team_Sunrisers Hyderabad',\n",
    "          'bowling_team_Delhi Daredevils','bowling_team_Royal Challengers Bangalore', \n",
    "          \n",
    "          'runs', 'wickets', 'overs','runs_last_5', 'wickets_last_5', 'total']\n",
    "\n",
    "FinalIPLdata = pd.DataFrame(IPLdata, columns=column)"
   ]
  },
  {
   "cell_type": "code",
   "execution_count": 21,
   "metadata": {},
   "outputs": [
    {
     "data": {
      "text/html": [
       "<div>\n",
       "<style scoped>\n",
       "    .dataframe tbody tr th:only-of-type {\n",
       "        vertical-align: middle;\n",
       "    }\n",
       "\n",
       "    .dataframe tbody tr th {\n",
       "        vertical-align: top;\n",
       "    }\n",
       "\n",
       "    .dataframe thead th {\n",
       "        text-align: right;\n",
       "    }\n",
       "</style>\n",
       "<table border=\"1\" class=\"dataframe\">\n",
       "  <thead>\n",
       "    <tr style=\"text-align: right;\">\n",
       "      <th></th>\n",
       "      <th>batting_team_Chennai Super Kings</th>\n",
       "      <th>batting_team_Mumbai Indians</th>\n",
       "      <th>batting_team_Rajasthan Royals</th>\n",
       "      <th>batting_team_Kolkata Knight Riders</th>\n",
       "      <th>batting_team_Kings XI Punjab</th>\n",
       "      <th>batting_team_Sunrisers Hyderabad</th>\n",
       "      <th>batting_team_Delhi Daredevils</th>\n",
       "      <th>batting_team_Royal Challengers Bangalore</th>\n",
       "      <th>bowling_team_Chennai Super Kings</th>\n",
       "      <th>bowling_team_Mumbai Indians</th>\n",
       "      <th>...</th>\n",
       "      <th>bowling_team_Kings XI Punjab</th>\n",
       "      <th>bowling_team_Sunrisers Hyderabad</th>\n",
       "      <th>bowling_team_Delhi Daredevils</th>\n",
       "      <th>bowling_team_Royal Challengers Bangalore</th>\n",
       "      <th>runs</th>\n",
       "      <th>wickets</th>\n",
       "      <th>overs</th>\n",
       "      <th>runs_last_5</th>\n",
       "      <th>wickets_last_5</th>\n",
       "      <th>total</th>\n",
       "    </tr>\n",
       "  </thead>\n",
       "  <tbody>\n",
       "    <tr>\n",
       "      <th>36553</th>\n",
       "      <td>0.0</td>\n",
       "      <td>0.0</td>\n",
       "      <td>0.0</td>\n",
       "      <td>0.0</td>\n",
       "      <td>0.0</td>\n",
       "      <td>0.0</td>\n",
       "      <td>0.0</td>\n",
       "      <td>1.0</td>\n",
       "      <td>0.0</td>\n",
       "      <td>1.0</td>\n",
       "      <td>...</td>\n",
       "      <td>0.0</td>\n",
       "      <td>0.0</td>\n",
       "      <td>0.0</td>\n",
       "      <td>0.0</td>\n",
       "      <td>92.0</td>\n",
       "      <td>3.0</td>\n",
       "      <td>11.4</td>\n",
       "      <td>26.0</td>\n",
       "      <td>2.0</td>\n",
       "      <td>185.0</td>\n",
       "    </tr>\n",
       "    <tr>\n",
       "      <th>20951</th>\n",
       "      <td>1.0</td>\n",
       "      <td>0.0</td>\n",
       "      <td>0.0</td>\n",
       "      <td>0.0</td>\n",
       "      <td>0.0</td>\n",
       "      <td>0.0</td>\n",
       "      <td>0.0</td>\n",
       "      <td>0.0</td>\n",
       "      <td>0.0</td>\n",
       "      <td>0.0</td>\n",
       "      <td>...</td>\n",
       "      <td>0.0</td>\n",
       "      <td>0.0</td>\n",
       "      <td>0.0</td>\n",
       "      <td>1.0</td>\n",
       "      <td>202.0</td>\n",
       "      <td>3.0</td>\n",
       "      <td>18.5</td>\n",
       "      <td>73.0</td>\n",
       "      <td>2.0</td>\n",
       "      <td>223.0</td>\n",
       "    </tr>\n",
       "    <tr>\n",
       "      <th>5925</th>\n",
       "      <td>1.0</td>\n",
       "      <td>0.0</td>\n",
       "      <td>0.0</td>\n",
       "      <td>0.0</td>\n",
       "      <td>0.0</td>\n",
       "      <td>0.0</td>\n",
       "      <td>0.0</td>\n",
       "      <td>0.0</td>\n",
       "      <td>0.0</td>\n",
       "      <td>0.0</td>\n",
       "      <td>...</td>\n",
       "      <td>0.0</td>\n",
       "      <td>0.0</td>\n",
       "      <td>1.0</td>\n",
       "      <td>0.0</td>\n",
       "      <td>101.0</td>\n",
       "      <td>3.0</td>\n",
       "      <td>12.6</td>\n",
       "      <td>42.0</td>\n",
       "      <td>1.0</td>\n",
       "      <td>129.0</td>\n",
       "    </tr>\n",
       "    <tr>\n",
       "      <th>28533</th>\n",
       "      <td>0.0</td>\n",
       "      <td>0.0</td>\n",
       "      <td>0.0</td>\n",
       "      <td>0.0</td>\n",
       "      <td>1.0</td>\n",
       "      <td>0.0</td>\n",
       "      <td>0.0</td>\n",
       "      <td>0.0</td>\n",
       "      <td>1.0</td>\n",
       "      <td>0.0</td>\n",
       "      <td>...</td>\n",
       "      <td>0.0</td>\n",
       "      <td>0.0</td>\n",
       "      <td>0.0</td>\n",
       "      <td>0.0</td>\n",
       "      <td>52.0</td>\n",
       "      <td>3.0</td>\n",
       "      <td>8.4</td>\n",
       "      <td>39.0</td>\n",
       "      <td>0.0</td>\n",
       "      <td>183.0</td>\n",
       "    </tr>\n",
       "    <tr>\n",
       "      <th>12292</th>\n",
       "      <td>0.0</td>\n",
       "      <td>0.0</td>\n",
       "      <td>0.0</td>\n",
       "      <td>0.0</td>\n",
       "      <td>1.0</td>\n",
       "      <td>0.0</td>\n",
       "      <td>0.0</td>\n",
       "      <td>0.0</td>\n",
       "      <td>0.0</td>\n",
       "      <td>1.0</td>\n",
       "      <td>...</td>\n",
       "      <td>0.0</td>\n",
       "      <td>0.0</td>\n",
       "      <td>0.0</td>\n",
       "      <td>0.0</td>\n",
       "      <td>77.0</td>\n",
       "      <td>2.0</td>\n",
       "      <td>10.1</td>\n",
       "      <td>27.0</td>\n",
       "      <td>2.0</td>\n",
       "      <td>178.0</td>\n",
       "    </tr>\n",
       "  </tbody>\n",
       "</table>\n",
       "<p>5 rows × 22 columns</p>\n",
       "</div>"
      ],
      "text/plain": [
       "       batting_team_Chennai Super Kings  batting_team_Mumbai Indians  \\\n",
       "36553                               0.0                          0.0   \n",
       "20951                               1.0                          0.0   \n",
       "5925                                1.0                          0.0   \n",
       "28533                               0.0                          0.0   \n",
       "12292                               0.0                          0.0   \n",
       "\n",
       "       batting_team_Rajasthan Royals  batting_team_Kolkata Knight Riders  \\\n",
       "36553                            0.0                                 0.0   \n",
       "20951                            0.0                                 0.0   \n",
       "5925                             0.0                                 0.0   \n",
       "28533                            0.0                                 0.0   \n",
       "12292                            0.0                                 0.0   \n",
       "\n",
       "       batting_team_Kings XI Punjab  batting_team_Sunrisers Hyderabad  \\\n",
       "36553                           0.0                               0.0   \n",
       "20951                           0.0                               0.0   \n",
       "5925                            0.0                               0.0   \n",
       "28533                           1.0                               0.0   \n",
       "12292                           1.0                               0.0   \n",
       "\n",
       "       batting_team_Delhi Daredevils  \\\n",
       "36553                            0.0   \n",
       "20951                            0.0   \n",
       "5925                             0.0   \n",
       "28533                            0.0   \n",
       "12292                            0.0   \n",
       "\n",
       "       batting_team_Royal Challengers Bangalore  \\\n",
       "36553                                       1.0   \n",
       "20951                                       0.0   \n",
       "5925                                        0.0   \n",
       "28533                                       0.0   \n",
       "12292                                       0.0   \n",
       "\n",
       "       bowling_team_Chennai Super Kings  bowling_team_Mumbai Indians  ...  \\\n",
       "36553                               0.0                          1.0  ...   \n",
       "20951                               0.0                          0.0  ...   \n",
       "5925                                0.0                          0.0  ...   \n",
       "28533                               1.0                          0.0  ...   \n",
       "12292                               0.0                          1.0  ...   \n",
       "\n",
       "       bowling_team_Kings XI Punjab  bowling_team_Sunrisers Hyderabad  \\\n",
       "36553                           0.0                               0.0   \n",
       "20951                           0.0                               0.0   \n",
       "5925                            0.0                               0.0   \n",
       "28533                           0.0                               0.0   \n",
       "12292                           0.0                               0.0   \n",
       "\n",
       "       bowling_team_Delhi Daredevils  \\\n",
       "36553                            0.0   \n",
       "20951                            0.0   \n",
       "5925                             1.0   \n",
       "28533                            0.0   \n",
       "12292                            0.0   \n",
       "\n",
       "       bowling_team_Royal Challengers Bangalore   runs  wickets  overs  \\\n",
       "36553                                       0.0   92.0      3.0   11.4   \n",
       "20951                                       1.0  202.0      3.0   18.5   \n",
       "5925                                        0.0  101.0      3.0   12.6   \n",
       "28533                                       0.0   52.0      3.0    8.4   \n",
       "12292                                       0.0   77.0      2.0   10.1   \n",
       "\n",
       "       runs_last_5  wickets_last_5  total  \n",
       "36553         26.0             2.0  185.0  \n",
       "20951         73.0             2.0  223.0  \n",
       "5925          42.0             1.0  129.0  \n",
       "28533         39.0             0.0  183.0  \n",
       "12292         27.0             2.0  178.0  \n",
       "\n",
       "[5 rows x 22 columns]"
      ]
     },
     "execution_count": 21,
     "metadata": {},
     "output_type": "execute_result"
    }
   ],
   "source": [
    "# Visualize Encoded and final cleaned IPLdata\n",
    "FinalIPLdata.sample(5)"
   ]
  },
  {
   "cell_type": "code",
   "execution_count": 22,
   "metadata": {},
   "outputs": [
    {
     "name": "stdout",
     "output_type": "stream",
     "text": [
      "Shape of the FinalIPLdata: (37389, 22)\n"
     ]
    }
   ],
   "source": [
    "print(\"Shape of the FinalIPLdata:\", FinalIPLdata.shape)"
   ]
  },
  {
   "cell_type": "code",
   "execution_count": 23,
   "metadata": {},
   "outputs": [
    {
     "data": {
      "text/html": [
       "<div>\n",
       "<style scoped>\n",
       "    .dataframe tbody tr th:only-of-type {\n",
       "        vertical-align: middle;\n",
       "    }\n",
       "\n",
       "    .dataframe tbody tr th {\n",
       "        vertical-align: top;\n",
       "    }\n",
       "\n",
       "    .dataframe thead th {\n",
       "        text-align: right;\n",
       "    }\n",
       "</style>\n",
       "<table border=\"1\" class=\"dataframe\">\n",
       "  <thead>\n",
       "    <tr style=\"text-align: right;\">\n",
       "      <th></th>\n",
       "      <th>batting_team_Chennai Super Kings</th>\n",
       "      <th>batting_team_Mumbai Indians</th>\n",
       "      <th>batting_team_Rajasthan Royals</th>\n",
       "      <th>batting_team_Kolkata Knight Riders</th>\n",
       "      <th>batting_team_Kings XI Punjab</th>\n",
       "      <th>batting_team_Sunrisers Hyderabad</th>\n",
       "      <th>batting_team_Delhi Daredevils</th>\n",
       "      <th>batting_team_Royal Challengers Bangalore</th>\n",
       "      <th>bowling_team_Chennai Super Kings</th>\n",
       "      <th>bowling_team_Mumbai Indians</th>\n",
       "      <th>...</th>\n",
       "      <th>bowling_team_Kings XI Punjab</th>\n",
       "      <th>bowling_team_Sunrisers Hyderabad</th>\n",
       "      <th>bowling_team_Delhi Daredevils</th>\n",
       "      <th>bowling_team_Royal Challengers Bangalore</th>\n",
       "      <th>runs</th>\n",
       "      <th>wickets</th>\n",
       "      <th>overs</th>\n",
       "      <th>runs_last_5</th>\n",
       "      <th>wickets_last_5</th>\n",
       "      <th>total</th>\n",
       "    </tr>\n",
       "  </thead>\n",
       "  <tbody>\n",
       "    <tr>\n",
       "      <th>count</th>\n",
       "      <td>37389.000000</td>\n",
       "      <td>37389.000000</td>\n",
       "      <td>37389.000000</td>\n",
       "      <td>37389.000000</td>\n",
       "      <td>37389.000000</td>\n",
       "      <td>37389.000000</td>\n",
       "      <td>37389.000000</td>\n",
       "      <td>37389.000000</td>\n",
       "      <td>37389.000000</td>\n",
       "      <td>37389.000000</td>\n",
       "      <td>...</td>\n",
       "      <td>37389.000000</td>\n",
       "      <td>37389.000000</td>\n",
       "      <td>37389.000000</td>\n",
       "      <td>37389.000000</td>\n",
       "      <td>37389.000000</td>\n",
       "      <td>37389.000000</td>\n",
       "      <td>37389.000000</td>\n",
       "      <td>37389.000000</td>\n",
       "      <td>37389.000000</td>\n",
       "      <td>37389.000000</td>\n",
       "    </tr>\n",
       "    <tr>\n",
       "      <th>mean</th>\n",
       "      <td>0.140656</td>\n",
       "      <td>0.111851</td>\n",
       "      <td>0.146621</td>\n",
       "      <td>0.115729</td>\n",
       "      <td>0.157292</td>\n",
       "      <td>0.112546</td>\n",
       "      <td>0.127123</td>\n",
       "      <td>0.088181</td>\n",
       "      <td>0.111637</td>\n",
       "      <td>0.153655</td>\n",
       "      <td>...</td>\n",
       "      <td>0.142930</td>\n",
       "      <td>0.119367</td>\n",
       "      <td>0.144000</td>\n",
       "      <td>0.053197</td>\n",
       "      <td>98.899382</td>\n",
       "      <td>3.168980</td>\n",
       "      <td>12.820193</td>\n",
       "      <td>39.066972</td>\n",
       "      <td>1.324694</td>\n",
       "      <td>162.006900</td>\n",
       "    </tr>\n",
       "    <tr>\n",
       "      <th>std</th>\n",
       "      <td>0.347671</td>\n",
       "      <td>0.315187</td>\n",
       "      <td>0.353732</td>\n",
       "      <td>0.319904</td>\n",
       "      <td>0.364081</td>\n",
       "      <td>0.316042</td>\n",
       "      <td>0.333115</td>\n",
       "      <td>0.283562</td>\n",
       "      <td>0.314924</td>\n",
       "      <td>0.360622</td>\n",
       "      <td>...</td>\n",
       "      <td>0.350006</td>\n",
       "      <td>0.324224</td>\n",
       "      <td>0.351094</td>\n",
       "      <td>0.224430</td>\n",
       "      <td>39.546976</td>\n",
       "      <td>1.893907</td>\n",
       "      <td>4.032047</td>\n",
       "      <td>11.583513</td>\n",
       "      <td>1.068983</td>\n",
       "      <td>29.772833</td>\n",
       "    </tr>\n",
       "    <tr>\n",
       "      <th>min</th>\n",
       "      <td>0.000000</td>\n",
       "      <td>0.000000</td>\n",
       "      <td>0.000000</td>\n",
       "      <td>0.000000</td>\n",
       "      <td>0.000000</td>\n",
       "      <td>0.000000</td>\n",
       "      <td>0.000000</td>\n",
       "      <td>0.000000</td>\n",
       "      <td>0.000000</td>\n",
       "      <td>0.000000</td>\n",
       "      <td>...</td>\n",
       "      <td>0.000000</td>\n",
       "      <td>0.000000</td>\n",
       "      <td>0.000000</td>\n",
       "      <td>0.000000</td>\n",
       "      <td>16.000000</td>\n",
       "      <td>0.000000</td>\n",
       "      <td>6.000000</td>\n",
       "      <td>10.000000</td>\n",
       "      <td>0.000000</td>\n",
       "      <td>67.000000</td>\n",
       "    </tr>\n",
       "    <tr>\n",
       "      <th>25%</th>\n",
       "      <td>0.000000</td>\n",
       "      <td>0.000000</td>\n",
       "      <td>0.000000</td>\n",
       "      <td>0.000000</td>\n",
       "      <td>0.000000</td>\n",
       "      <td>0.000000</td>\n",
       "      <td>0.000000</td>\n",
       "      <td>0.000000</td>\n",
       "      <td>0.000000</td>\n",
       "      <td>0.000000</td>\n",
       "      <td>...</td>\n",
       "      <td>0.000000</td>\n",
       "      <td>0.000000</td>\n",
       "      <td>0.000000</td>\n",
       "      <td>0.000000</td>\n",
       "      <td>67.000000</td>\n",
       "      <td>2.000000</td>\n",
       "      <td>9.300000</td>\n",
       "      <td>31.000000</td>\n",
       "      <td>1.000000</td>\n",
       "      <td>142.000000</td>\n",
       "    </tr>\n",
       "    <tr>\n",
       "      <th>50%</th>\n",
       "      <td>0.000000</td>\n",
       "      <td>0.000000</td>\n",
       "      <td>0.000000</td>\n",
       "      <td>0.000000</td>\n",
       "      <td>0.000000</td>\n",
       "      <td>0.000000</td>\n",
       "      <td>0.000000</td>\n",
       "      <td>0.000000</td>\n",
       "      <td>0.000000</td>\n",
       "      <td>0.000000</td>\n",
       "      <td>...</td>\n",
       "      <td>0.000000</td>\n",
       "      <td>0.000000</td>\n",
       "      <td>0.000000</td>\n",
       "      <td>0.000000</td>\n",
       "      <td>94.000000</td>\n",
       "      <td>3.000000</td>\n",
       "      <td>12.600000</td>\n",
       "      <td>38.000000</td>\n",
       "      <td>1.000000</td>\n",
       "      <td>163.000000</td>\n",
       "    </tr>\n",
       "    <tr>\n",
       "      <th>75%</th>\n",
       "      <td>0.000000</td>\n",
       "      <td>0.000000</td>\n",
       "      <td>0.000000</td>\n",
       "      <td>0.000000</td>\n",
       "      <td>0.000000</td>\n",
       "      <td>0.000000</td>\n",
       "      <td>0.000000</td>\n",
       "      <td>0.000000</td>\n",
       "      <td>0.000000</td>\n",
       "      <td>0.000000</td>\n",
       "      <td>...</td>\n",
       "      <td>0.000000</td>\n",
       "      <td>0.000000</td>\n",
       "      <td>0.000000</td>\n",
       "      <td>0.000000</td>\n",
       "      <td>126.000000</td>\n",
       "      <td>4.000000</td>\n",
       "      <td>16.300000</td>\n",
       "      <td>46.000000</td>\n",
       "      <td>2.000000</td>\n",
       "      <td>183.000000</td>\n",
       "    </tr>\n",
       "    <tr>\n",
       "      <th>max</th>\n",
       "      <td>1.000000</td>\n",
       "      <td>1.000000</td>\n",
       "      <td>1.000000</td>\n",
       "      <td>1.000000</td>\n",
       "      <td>1.000000</td>\n",
       "      <td>1.000000</td>\n",
       "      <td>1.000000</td>\n",
       "      <td>1.000000</td>\n",
       "      <td>1.000000</td>\n",
       "      <td>1.000000</td>\n",
       "      <td>...</td>\n",
       "      <td>1.000000</td>\n",
       "      <td>1.000000</td>\n",
       "      <td>1.000000</td>\n",
       "      <td>1.000000</td>\n",
       "      <td>246.000000</td>\n",
       "      <td>10.000000</td>\n",
       "      <td>19.600000</td>\n",
       "      <td>94.000000</td>\n",
       "      <td>7.000000</td>\n",
       "      <td>246.000000</td>\n",
       "    </tr>\n",
       "  </tbody>\n",
       "</table>\n",
       "<p>8 rows × 22 columns</p>\n",
       "</div>"
      ],
      "text/plain": [
       "       batting_team_Chennai Super Kings  batting_team_Mumbai Indians  \\\n",
       "count                      37389.000000                 37389.000000   \n",
       "mean                           0.140656                     0.111851   \n",
       "std                            0.347671                     0.315187   \n",
       "min                            0.000000                     0.000000   \n",
       "25%                            0.000000                     0.000000   \n",
       "50%                            0.000000                     0.000000   \n",
       "75%                            0.000000                     0.000000   \n",
       "max                            1.000000                     1.000000   \n",
       "\n",
       "       batting_team_Rajasthan Royals  batting_team_Kolkata Knight Riders  \\\n",
       "count                   37389.000000                        37389.000000   \n",
       "mean                        0.146621                            0.115729   \n",
       "std                         0.353732                            0.319904   \n",
       "min                         0.000000                            0.000000   \n",
       "25%                         0.000000                            0.000000   \n",
       "50%                         0.000000                            0.000000   \n",
       "75%                         0.000000                            0.000000   \n",
       "max                         1.000000                            1.000000   \n",
       "\n",
       "       batting_team_Kings XI Punjab  batting_team_Sunrisers Hyderabad  \\\n",
       "count                  37389.000000                      37389.000000   \n",
       "mean                       0.157292                          0.112546   \n",
       "std                        0.364081                          0.316042   \n",
       "min                        0.000000                          0.000000   \n",
       "25%                        0.000000                          0.000000   \n",
       "50%                        0.000000                          0.000000   \n",
       "75%                        0.000000                          0.000000   \n",
       "max                        1.000000                          1.000000   \n",
       "\n",
       "       batting_team_Delhi Daredevils  \\\n",
       "count                   37389.000000   \n",
       "mean                        0.127123   \n",
       "std                         0.333115   \n",
       "min                         0.000000   \n",
       "25%                         0.000000   \n",
       "50%                         0.000000   \n",
       "75%                         0.000000   \n",
       "max                         1.000000   \n",
       "\n",
       "       batting_team_Royal Challengers Bangalore  \\\n",
       "count                              37389.000000   \n",
       "mean                                   0.088181   \n",
       "std                                    0.283562   \n",
       "min                                    0.000000   \n",
       "25%                                    0.000000   \n",
       "50%                                    0.000000   \n",
       "75%                                    0.000000   \n",
       "max                                    1.000000   \n",
       "\n",
       "       bowling_team_Chennai Super Kings  bowling_team_Mumbai Indians  ...  \\\n",
       "count                      37389.000000                 37389.000000  ...   \n",
       "mean                           0.111637                     0.153655  ...   \n",
       "std                            0.314924                     0.360622  ...   \n",
       "min                            0.000000                     0.000000  ...   \n",
       "25%                            0.000000                     0.000000  ...   \n",
       "50%                            0.000000                     0.000000  ...   \n",
       "75%                            0.000000                     0.000000  ...   \n",
       "max                            1.000000                     1.000000  ...   \n",
       "\n",
       "       bowling_team_Kings XI Punjab  bowling_team_Sunrisers Hyderabad  \\\n",
       "count                  37389.000000                      37389.000000   \n",
       "mean                       0.142930                          0.119367   \n",
       "std                        0.350006                          0.324224   \n",
       "min                        0.000000                          0.000000   \n",
       "25%                        0.000000                          0.000000   \n",
       "50%                        0.000000                          0.000000   \n",
       "75%                        0.000000                          0.000000   \n",
       "max                        1.000000                          1.000000   \n",
       "\n",
       "       bowling_team_Delhi Daredevils  \\\n",
       "count                   37389.000000   \n",
       "mean                        0.144000   \n",
       "std                         0.351094   \n",
       "min                         0.000000   \n",
       "25%                         0.000000   \n",
       "50%                         0.000000   \n",
       "75%                         0.000000   \n",
       "max                         1.000000   \n",
       "\n",
       "       bowling_team_Royal Challengers Bangalore          runs       wickets  \\\n",
       "count                              37389.000000  37389.000000  37389.000000   \n",
       "mean                                   0.053197     98.899382      3.168980   \n",
       "std                                    0.224430     39.546976      1.893907   \n",
       "min                                    0.000000     16.000000      0.000000   \n",
       "25%                                    0.000000     67.000000      2.000000   \n",
       "50%                                    0.000000     94.000000      3.000000   \n",
       "75%                                    0.000000    126.000000      4.000000   \n",
       "max                                    1.000000    246.000000     10.000000   \n",
       "\n",
       "              overs   runs_last_5  wickets_last_5         total  \n",
       "count  37389.000000  37389.000000    37389.000000  37389.000000  \n",
       "mean      12.820193     39.066972        1.324694    162.006900  \n",
       "std        4.032047     11.583513        1.068983     29.772833  \n",
       "min        6.000000     10.000000        0.000000     67.000000  \n",
       "25%        9.300000     31.000000        1.000000    142.000000  \n",
       "50%       12.600000     38.000000        1.000000    163.000000  \n",
       "75%       16.300000     46.000000        2.000000    183.000000  \n",
       "max       19.600000     94.000000        7.000000    246.000000  \n",
       "\n",
       "[8 rows x 22 columns]"
      ]
     },
     "execution_count": 23,
     "metadata": {},
     "output_type": "execute_result"
    }
   ],
   "source": [
    "#Numerical Values of the FinalIPLdata\n",
    "\n",
    "FinalIPLdata.describe()"
   ]
  },
  {
   "cell_type": "code",
   "execution_count": 24,
   "metadata": {},
   "outputs": [
    {
     "name": "stdout",
     "output_type": "stream",
     "text": [
      "<class 'pandas.core.frame.DataFrame'>\n",
      "RangeIndex: 37389 entries, 0 to 37388\n",
      "Data columns (total 22 columns):\n",
      " #   Column                                    Non-Null Count  Dtype  \n",
      "---  ------                                    --------------  -----  \n",
      " 0   batting_team_Chennai Super Kings          37389 non-null  float64\n",
      " 1   batting_team_Mumbai Indians               37389 non-null  float64\n",
      " 2   batting_team_Rajasthan Royals             37389 non-null  float64\n",
      " 3   batting_team_Kolkata Knight Riders        37389 non-null  float64\n",
      " 4   batting_team_Kings XI Punjab              37389 non-null  float64\n",
      " 5   batting_team_Sunrisers Hyderabad          37389 non-null  float64\n",
      " 6   batting_team_Delhi Daredevils             37389 non-null  float64\n",
      " 7   batting_team_Royal Challengers Bangalore  37389 non-null  float64\n",
      " 8   bowling_team_Chennai Super Kings          37389 non-null  float64\n",
      " 9   bowling_team_Mumbai Indians               37389 non-null  float64\n",
      " 10  bowling_team_Rajasthan Royals             37389 non-null  float64\n",
      " 11  bowling_team_Kolkata Knight Riders        37389 non-null  float64\n",
      " 12  bowling_team_Kings XI Punjab              37389 non-null  float64\n",
      " 13  bowling_team_Sunrisers Hyderabad          37389 non-null  float64\n",
      " 14  bowling_team_Delhi Daredevils             37389 non-null  float64\n",
      " 15  bowling_team_Royal Challengers Bangalore  37389 non-null  float64\n",
      " 16  runs                                      37389 non-null  float64\n",
      " 17  wickets                                   37389 non-null  float64\n",
      " 18  overs                                     37389 non-null  float64\n",
      " 19  runs_last_5                               37389 non-null  float64\n",
      " 20  wickets_last_5                            37389 non-null  float64\n",
      " 21  total                                     37389 non-null  float64\n",
      "dtypes: float64(22)\n",
      "memory usage: 6.3 MB\n"
     ]
    }
   ],
   "source": [
    "#Data types and not null counts of the features are displayed\n",
    "\n",
    "FinalIPLdata.info()"
   ]
  },
  {
   "cell_type": "code",
   "execution_count": 25,
   "metadata": {},
   "outputs": [
    {
     "data": {
      "text/plain": [
       "batting_team_Chennai Super Kings              2\n",
       "batting_team_Mumbai Indians                   2\n",
       "batting_team_Rajasthan Royals                 2\n",
       "batting_team_Kolkata Knight Riders            2\n",
       "batting_team_Kings XI Punjab                  2\n",
       "batting_team_Sunrisers Hyderabad              2\n",
       "batting_team_Delhi Daredevils                 2\n",
       "batting_team_Royal Challengers Bangalore      2\n",
       "bowling_team_Chennai Super Kings              2\n",
       "bowling_team_Mumbai Indians                   2\n",
       "bowling_team_Rajasthan Royals                 2\n",
       "bowling_team_Kolkata Knight Riders            2\n",
       "bowling_team_Kings XI Punjab                  2\n",
       "bowling_team_Sunrisers Hyderabad              2\n",
       "bowling_team_Delhi Daredevils                 2\n",
       "bowling_team_Royal Challengers Bangalore      2\n",
       "runs                                        221\n",
       "wickets                                      11\n",
       "overs                                        98\n",
       "runs_last_5                                  84\n",
       "wickets_last_5                                8\n",
       "total                                       128\n",
       "dtype: int64"
      ]
     },
     "execution_count": 25,
     "metadata": {},
     "output_type": "execute_result"
    }
   ],
   "source": [
    "# count of Unique Values in each feature\n",
    "\n",
    "FinalIPLdata.nunique()"
   ]
  },
  {
   "cell_type": "code",
   "execution_count": 26,
   "metadata": {
    "scrolled": true
   },
   "outputs": [
    {
     "data": {
      "text/plain": [
       "batting_team_Chennai Super Kings            float64\n",
       "batting_team_Mumbai Indians                 float64\n",
       "batting_team_Rajasthan Royals               float64\n",
       "batting_team_Kolkata Knight Riders          float64\n",
       "batting_team_Kings XI Punjab                float64\n",
       "batting_team_Sunrisers Hyderabad            float64\n",
       "batting_team_Delhi Daredevils               float64\n",
       "batting_team_Royal Challengers Bangalore    float64\n",
       "bowling_team_Chennai Super Kings            float64\n",
       "bowling_team_Mumbai Indians                 float64\n",
       "bowling_team_Rajasthan Royals               float64\n",
       "bowling_team_Kolkata Knight Riders          float64\n",
       "bowling_team_Kings XI Punjab                float64\n",
       "bowling_team_Sunrisers Hyderabad            float64\n",
       "bowling_team_Delhi Daredevils               float64\n",
       "bowling_team_Royal Challengers Bangalore    float64\n",
       "runs                                        float64\n",
       "wickets                                     float64\n",
       "overs                                       float64\n",
       "runs_last_5                                 float64\n",
       "wickets_last_5                              float64\n",
       "total                                       float64\n",
       "dtype: object"
      ]
     },
     "execution_count": 26,
     "metadata": {},
     "output_type": "execute_result"
    }
   ],
   "source": [
    "# Data-types of all features\n",
    "\n",
    "FinalIPLdata.dtypes"
   ]
  },
  {
   "cell_type": "code",
   "execution_count": 27,
   "metadata": {},
   "outputs": [],
   "source": [
    "# the pre-processed is exported \n",
    "\n",
    "FinalIPLdata.to_csv('IPLdata\\FinalIPLdata.csv')"
   ]
  },
  {
   "cell_type": "markdown",
   "metadata": {},
   "source": [
    "# Visualization of Cleaned Data"
   ]
  },
  {
   "cell_type": "code",
   "execution_count": 28,
   "metadata": {},
   "outputs": [
    {
     "data": {
      "text/plain": [
       "<AxesSubplot:>"
      ]
     },
     "execution_count": 28,
     "metadata": {},
     "output_type": "execute_result"
    },
    {
     "data": {
      "image/png": "[encoded data removed]",
      "text/plain": [
       "<Figure size 1440x1440 with 2 Axes>"
      ]
     },
     "metadata": {
      "needs_background": "light"
     },
     "output_type": "display_data"
    }
   ],
   "source": [
    "import matplotlib.pyplot as plt\n",
    "figure = plt.figure(figsize=(20,20))\n",
    "sns.heatmap(FinalIPLdata.corr(), annot=True, cmap=\"YlGnBu\",)\n"
   ]
  },
  {
   "cell_type": "markdown",
   "metadata": {},
   "source": [
    "# Buinding Models"
   ]
  },
  {
   "cell_type": "markdown",
   "metadata": {},
   "source": [
    "##  Target feature is selected and dataset is split into Training and Testing data"
   ]
  },
  {
   "cell_type": "code",
   "execution_count": 29,
   "metadata": {},
   "outputs": [],
   "source": [
    "# the below snippet drops the target feature \n",
    "\n",
    "features = FinalIPLdata.drop(['total'], axis=1)\n",
    "\n",
    "# the target feature is labeled as \"target\" \n",
    "\n",
    "target = FinalIPLdata['total']"
   ]
  },
  {
   "cell_type": "code",
   "execution_count": 30,
   "metadata": {},
   "outputs": [
    {
     "name": "stdout",
     "output_type": "stream",
     "text": [
      "Training Set : (28041, 21) \n",
      "Testing Set : (9348, 21)\n"
     ]
    }
   ],
   "source": [
    "# training and testing data is split into 75 : 25 \n",
    "\n",
    "from sklearn.model_selection import train_test_split\n",
    "\n",
    "train_features, test_features, train_target, test_target = train_test_split(features, target, test_size=0.25, shuffle=True)\n",
    "print(\"Training Set :\",train_features.shape,\"\\nTesting Set :\", test_features.shape)"
   ]
  },
  {
   "cell_type": "code",
   "execution_count": 31,
   "metadata": {},
   "outputs": [],
   "source": [
    "# Keeping track of model perfomances.The dict() function creates a dictionary.\n",
    "models = dict()"
   ]
  },
  {
   "cell_type": "markdown",
   "metadata": {},
   "source": [
    "### ElasticNet Regression"
   ]
  },
  {
   "cell_type": "code",
   "execution_count": 32,
   "metadata": {},
   "outputs": [
    {
     "data": {
      "text/plain": [
       "ElasticNet(alpha=1.0, copy_X=True, fit_intercept=True, l1_ratio=0.5,\n",
       "           max_iter=1000, normalize=False, positive=False, precompute=False,\n",
       "           random_state=None, selection='cyclic', tol=0.0001, warm_start=False)"
      ]
     },
     "execution_count": 32,
     "metadata": {},
     "output_type": "execute_result"
    }
   ],
   "source": [
    "#code for ElasticNet Regression\n",
    "\n",
    "from sklearn.linear_model import ElasticNet \n",
    "elastic_net = ElasticNet() \n",
    "elastic_net.fit(train_features, train_target)"
   ]
  },
  {
   "cell_type": "code",
   "execution_count": 35,
   "metadata": {},
   "outputs": [
    {
     "name": "stdout",
     "output_type": "stream",
     "text": [
      "Train Score :  66.81 %\n",
      "Test Score :  67.42 %\n"
     ]
    }
   ],
   "source": [
    "# Model Evaluation\n",
    "\n",
    "train_score_elastic_net = str(elastic_net.score(train_features, train_target)*100)\n",
    "test_score_elastic_net = str(elastic_net.score(test_features, test_target)*100)\n",
    "print(\"Train Score : \",train_score_elastic_net[:5],\"%\\nTest Score : \",test_score_elastic_net[:5],\"%\")\n",
    "models[\"elastic_net\"] = test_score_elastic_net\n"
   ]
  },
  {
   "cell_type": "code",
   "execution_count": 36,
   "metadata": {},
   "outputs": [
    {
     "name": "stdout",
     "output_type": "stream",
     "text": [
      "****Model Evaluation - ElasticNet Regression **** \n",
      "\n",
      "Mean Absolute Error (MAE): 12.684703939252817\n",
      "Mean Squared Error (MSE): 290.8615036659778\n",
      "Root Mean Squared Error (RMSE): 17.05466222667508\n"
     ]
    }
   ],
   "source": [
    "from sklearn.metrics import mean_absolute_error as mae, mean_squared_error as mse\n",
    "\n",
    "print(\"****Model Evaluation - ElasticNet Regression **** \\n\")\n",
    "\n",
    "print(\"Mean Absolute Error (MAE): {}\".format(mae(test_target, elastic_net.predict(test_features))))\n",
    "print(\"Mean Squared Error (MSE): {}\".format(mse(test_target, elastic_net.predict(test_features))))\n",
    "print(\"Root Mean Squared Error (RMSE): {}\".format(np.sqrt(mse(test_target, elastic_net.predict(test_features)))))"
   ]
  },
  {
   "cell_type": "markdown",
   "metadata": {},
   "source": [
    "### Ridge Regression"
   ]
  },
  {
   "cell_type": "code",
   "execution_count": 37,
   "metadata": {},
   "outputs": [
    {
     "data": {
      "text/plain": [
       "Ridge(alpha=1.0, copy_X=True, fit_intercept=True, max_iter=None,\n",
       "      normalize=False, random_state=None, solver='auto', tol=0.001)"
      ]
     },
     "execution_count": 37,
     "metadata": {},
     "output_type": "execute_result"
    }
   ],
   "source": [
    "#Code for Ridge Regression\n",
    "\n",
    "from sklearn.linear_model import Ridge\n",
    "\n",
    "ridge = Ridge()\n",
    "ridge.fit(train_features, train_target) \n"
   ]
  },
  {
   "cell_type": "code",
   "execution_count": 38,
   "metadata": {},
   "outputs": [
    {
     "name": "stdout",
     "output_type": "stream",
     "text": [
      "Train Score :  68.24 %\n",
      "Test Score :  68.93 %\n"
     ]
    }
   ],
   "source": [
    "# Model Evaluation\n",
    "\n",
    "train_score_ridge = str(ridge.score(train_features, train_target)*100)\n",
    "test_score_ridge = str(ridge.score(test_features, test_target)*100)\n",
    "print(\"Train Score : \",train_score_ridge[:5],\"%\\nTest Score : \",test_score_ridge[:5],\"%\")\n",
    "models[\"ridge\"] = test_score_ridge\n"
   ]
  },
  {
   "cell_type": "code",
   "execution_count": 39,
   "metadata": {},
   "outputs": [
    {
     "name": "stdout",
     "output_type": "stream",
     "text": [
      "****Model Evaluation - Ridge Regression **** \n",
      "\n",
      "Mean Absolute Error (MAE): 12.533797089242212\n",
      "Mean Squared Error (MSE): 277.36192463349187\n",
      "Root Mean Squared Error (RMSE): 16.654186399626127\n"
     ]
    }
   ],
   "source": [
    "print(\"****Model Evaluation - Ridge Regression **** \\n\")\n",
    "\n",
    "print(\"Mean Absolute Error (MAE): {}\".format(mae(test_target, ridge.predict(test_features))))\n",
    "print(\"Mean Squared Error (MSE): {}\".format(mse(test_target, ridge.predict(test_features))))\n",
    "print(\"Root Mean Squared Error (RMSE): {}\".format(np.sqrt(mse(test_target, ridge.predict(test_features)))))"
   ]
  },
  {
   "cell_type": "markdown",
   "metadata": {},
   "source": [
    "### KNeighborsRegressor"
   ]
  },
  {
   "cell_type": "code",
   "execution_count": 40,
   "metadata": {},
   "outputs": [
    {
     "data": {
      "text/plain": [
       "KNeighborsRegressor(algorithm='auto', leaf_size=30, metric='minkowski',\n",
       "                    metric_params=None, n_jobs=None, n_neighbors=1, p=2,\n",
       "                    weights='uniform')"
      ]
     },
     "execution_count": 40,
     "metadata": {},
     "output_type": "execute_result"
    }
   ],
   "source": [
    "#Code for #Code for Random Forest Regression\n",
    "\n",
    "from sklearn import neighbors\n",
    "\n",
    "for K in range(1):\n",
    "    K = K+1\n",
    "    \n",
    "KNN = neighbors.KNeighborsRegressor(n_neighbors = K)\n",
    "KNN.fit(train_features, train_target) "
   ]
  },
  {
   "cell_type": "code",
   "execution_count": 41,
   "metadata": {},
   "outputs": [
    {
     "name": "stdout",
     "output_type": "stream",
     "text": [
      "Train Score :  99.98 %\n",
      "Test Score :  85.69 %\n"
     ]
    }
   ],
   "source": [
    "# Model Evaluation\n",
    "\n",
    "train_score_KNN = str(KNN.score(train_features, train_target)*100)\n",
    "test_score_KNN = str(KNN.score(test_features, test_target)*100)\n",
    "print(\"Train Score : \",train_score_KNN[:5],\"%\\nTest Score : \",test_score_KNN[:5],\"%\")\n",
    "models[\"KNN\"] = test_score_KNN\n"
   ]
  },
  {
   "cell_type": "code",
   "execution_count": 42,
   "metadata": {},
   "outputs": [
    {
     "name": "stdout",
     "output_type": "stream",
     "text": [
      "****Model Evaluation - Random Forest **** \n",
      "\n",
      "Mean Absolute Error (MAE): 4.194266153187848\n",
      "Mean Squared Error (MSE): 127.74154899443731\n",
      "Root Mean Squared Error (RMSE): 11.302280698798686\n"
     ]
    }
   ],
   "source": [
    "print(\"****Model Evaluation - Random Forest **** \\n\")\n",
    "\n",
    "print(\"Mean Absolute Error (MAE): {}\".format(mae(test_target, KNN.predict(test_features))))\n",
    "print(\"Mean Squared Error (MSE): {}\".format(mse(test_target, KNN.predict(test_features))))\n",
    "print(\"Root Mean Squared Error (RMSE): {}\".format(np.sqrt(mse(test_target, KNN.predict(test_features)))))"
   ]
  },
  {
   "cell_type": "markdown",
   "metadata": {},
   "source": [
    "### Random Forest Regression"
   ]
  },
  {
   "cell_type": "code",
   "execution_count": 43,
   "metadata": {},
   "outputs": [
    {
     "data": {
      "text/plain": [
       "RandomForestRegressor(bootstrap=True, ccp_alpha=0.0, criterion='mse',\n",
       "                      max_depth=None, max_features='auto', max_leaf_nodes=None,\n",
       "                      max_samples=None, min_impurity_decrease=0.0,\n",
       "                      min_impurity_split=None, min_samples_leaf=1,\n",
       "                      min_samples_split=2, min_weight_fraction_leaf=0.0,\n",
       "                      n_estimators=80, n_jobs=None, oob_score=False,\n",
       "                      random_state=None, verbose=0, warm_start=False)"
      ]
     },
     "execution_count": 43,
     "metadata": {},
     "output_type": "execute_result"
    }
   ],
   "source": [
    "#Code for Random Forest Regression\n",
    "\n",
    "from sklearn.ensemble import RandomForestRegressor\n",
    "random_forest = RandomForestRegressor(n_estimators=80)\n",
    "\n",
    "# the below snippet trains the data\n",
    "random_forest.fit(train_features, train_target)"
   ]
  },
  {
   "cell_type": "code",
   "execution_count": 44,
   "metadata": {},
   "outputs": [
    {
     "name": "stdout",
     "output_type": "stream",
     "text": [
      "Train Score :  99.11 %\n",
      "Test Score :  94.27 %\n"
     ]
    }
   ],
   "source": [
    "# Model Evaluation\n",
    "\n",
    "train_score_random_forest = str(random_forest.score(train_features, train_target)*100)\n",
    "test_score_random_forest = str(random_forest.score(test_features, test_target)*100)\n",
    "print(\"Train Score : \",train_score_random_forest[:5],\"%\\nTest Score : \",test_score_random_forest[:5],\"%\")\n",
    "models[\"random_forest\"] = test_score_random_forest"
   ]
  },
  {
   "cell_type": "code",
   "execution_count": 45,
   "metadata": {},
   "outputs": [
    {
     "name": "stdout",
     "output_type": "stream",
     "text": [
      "****Model Evaluation - Random Forest **** \n",
      "\n",
      "Mean Absolute Error (MAE): 4.31356897706665\n",
      "Mean Squared Error (MSE): 51.1075493600426\n",
      "Root Mean Squared Error (RMSE): 7.148954424252724\n"
     ]
    }
   ],
   "source": [
    "print(\"****Model Evaluation - Random Forest **** \\n\")\n",
    "\n",
    "print(\"Mean Absolute Error (MAE): {}\".format(mae(test_target, random_forest.predict(test_features))))\n",
    "print(\"Mean Squared Error (MSE): {}\".format(mse(test_target, random_forest.predict(test_features))))\n",
    "print(\"Root Mean Squared Error (RMSE): {}\".format(np.sqrt(mse(test_target, random_forest.predict(test_features)))))"
   ]
  },
  {
   "cell_type": "markdown",
   "metadata": {},
   "source": [
    "### Decision Tree Regressor"
   ]
  },
  {
   "cell_type": "code",
   "execution_count": 46,
   "metadata": {},
   "outputs": [
    {
     "data": {
      "text/plain": [
       "DecisionTreeRegressor(ccp_alpha=0.0, criterion='mse', max_depth=None,\n",
       "                      max_features=None, max_leaf_nodes=None,\n",
       "                      min_impurity_decrease=0.0, min_impurity_split=None,\n",
       "                      min_samples_leaf=1, min_samples_split=2,\n",
       "                      min_weight_fraction_leaf=0.0, presort='deprecated',\n",
       "                      random_state=None, splitter='best')"
      ]
     },
     "execution_count": 46,
     "metadata": {},
     "output_type": "execute_result"
    }
   ],
   "source": [
    "#code for Decision Tree Regressor\n",
    "\n",
    "from sklearn.tree import DecisionTreeRegressor\n",
    "decision_tree = DecisionTreeRegressor()\n",
    "\n",
    "# the below snippet trains the data\n",
    "decision_tree.fit(train_features, train_target)"
   ]
  },
  {
   "cell_type": "code",
   "execution_count": 47,
   "metadata": {},
   "outputs": [
    {
     "name": "stdout",
     "output_type": "stream",
     "text": [
      "Train Score :  99.99 %\n",
      "Test Score :  88.52 %\n"
     ]
    }
   ],
   "source": [
    "# Model Evaluation\n",
    "\n",
    "train_score_decision_tree = str(decision_tree.score(train_features, train_target) * 100)\n",
    "test_score_decision_tree = str(decision_tree.score(test_features, test_target) * 100)\n",
    "print(\"Train Score : \",train_score_decision_tree[:5],\"%\\nTest Score : \",test_score_decision_tree[:5],\"%\")\n",
    "models[\"decision_tree\"] = test_score_decision_tree"
   ]
  },
  {
   "cell_type": "code",
   "execution_count": 48,
   "metadata": {},
   "outputs": [
    {
     "name": "stdout",
     "output_type": "stream",
     "text": [
      "****Model Evaluation - Decision Tree **** \n",
      "\n",
      "Mean Absolute Error (MAE): 3.6452182284980745\n",
      "Mean Squared Error (MSE): 102.47927364142062\n",
      "Root Mean Squared Error (RMSE): 10.123204712017861\n"
     ]
    }
   ],
   "source": [
    "print(\"****Model Evaluation - Decision Tree **** \\n\")\n",
    "\n",
    "print(\"Mean Absolute Error (MAE): {}\".format(mae(test_target, decision_tree.predict(test_features))))\n",
    "print(\"Mean Squared Error (MSE): {}\".format(mse(test_target, decision_tree.predict(test_features))))\n",
    "print(\"Root Mean Squared Error (RMSE): {}\".format(np.sqrt(mse(test_target, decision_tree.predict(test_features)))))"
   ]
  },
  {
   "cell_type": "markdown",
   "metadata": {},
   "source": [
    "### Neural Networks"
   ]
  },
  {
   "cell_type": "code",
   "execution_count": 49,
   "metadata": {},
   "outputs": [
    {
     "data": {
      "text/plain": [
       "MLPRegressor(activation='logistic', alpha=0.0001, batch_size='auto', beta_1=0.9,\n",
       "             beta_2=0.999, early_stopping=False, epsilon=1e-08,\n",
       "             hidden_layer_sizes=(100,), learning_rate='constant',\n",
       "             learning_rate_init=0.001, max_fun=15000, max_iter=3000,\n",
       "             momentum=0.9, n_iter_no_change=10, nesterovs_momentum=True,\n",
       "             power_t=0.5, random_state=None, shuffle=True, solver='adam',\n",
       "             tol=0.0001, validation_fraction=0.1, verbose=False,\n",
       "             warm_start=False)"
      ]
     },
     "execution_count": 49,
     "metadata": {},
     "output_type": "execute_result"
    }
   ],
   "source": [
    "#code for Neural Networks\n",
    "\n",
    "from sklearn.neural_network import MLPRegressor\n",
    "neural_networks = MLPRegressor(activation='logistic',max_iter=3000)\n",
    "\n",
    "# the below snippet trains the data\n",
    "neural_networks.fit(train_features, train_target)"
   ]
  },
  {
   "cell_type": "code",
   "execution_count": 50,
   "metadata": {},
   "outputs": [
    {
     "name": "stdout",
     "output_type": "stream",
     "text": [
      "Train Score : 91.16 %\n",
      "Test Score :  90.46 %\n"
     ]
    }
   ],
   "source": [
    "# Model Evaluation\n",
    "\n",
    "train_score_neural_networks = str(neural_networks.score(train_features, train_target)*100)\n",
    "test_score_neural_networks = str(neural_networks.score(test_features, test_target)*100)\n",
    "print(\"Train Score :\",train_score_neural_networks[:5],\"%\\nTest Score : \",test_score_neural_networks[:5],\"%\")\n",
    "models[\"neural_networks\"] = test_score_neural_networks "
   ]
  },
  {
   "cell_type": "code",
   "execution_count": 51,
   "metadata": {},
   "outputs": [
    {
     "name": "stdout",
     "output_type": "stream",
     "text": [
      "****Model Evaluation -  Neural Networks **** \n",
      "\n",
      "Mean Absolute Error (MAE): 6.656494968085385\n",
      "Mean Squared Error (MSE): 85.09447770088393\n",
      "Root Mean Squared Error (RMSE): 9.224666807038828\n"
     ]
    }
   ],
   "source": [
    "print(\"****Model Evaluation -  Neural Networks **** \\n\")\n",
    "\n",
    "print(\"Mean Absolute Error (MAE): {}\".format(mae(test_target, neural_networks.predict(test_features))))\n",
    "print(\"Mean Squared Error (MSE): {}\".format(mse(test_target, neural_networks.predict(test_features))))\n",
    "print(\"Root Mean Squared Error (RMSE): {}\".format(np.sqrt(mse(test_target, neural_networks.predict(test_features)))))"
   ]
  },
  {
   "cell_type": "markdown",
   "metadata": {},
   "source": [
    "### Support Vector Machine"
   ]
  },
  {
   "cell_type": "code",
   "execution_count": 52,
   "metadata": {},
   "outputs": [
    {
     "data": {
      "text/plain": [
       "SVR(C=1.0, cache_size=200, coef0=0.0, degree=3, epsilon=0.1, gamma='scale',\n",
       "    kernel='rbf', max_iter=-1, shrinking=True, tol=0.001, verbose=False)"
      ]
     },
     "execution_count": 52,
     "metadata": {},
     "output_type": "execute_result"
    }
   ],
   "source": [
    "from sklearn.svm import SVR\n",
    "support_vector_machine = SVR()\n",
    "# the below snippet trains the data\n",
    "support_vector_machine.fit(train_features, train_target)"
   ]
  },
  {
   "cell_type": "code",
   "execution_count": 53,
   "metadata": {},
   "outputs": [
    {
     "name": "stdout",
     "output_type": "stream",
     "text": [
      "Train Score :  58.57 %\n",
      "Test Score :  58.79 %\n"
     ]
    }
   ],
   "source": [
    "# Model Evaluation\n",
    "\n",
    "train_score_support_vector_machine = str(support_vector_machine.score(train_features, train_target)*100)\n",
    "test_score_support_vector_machine = str(support_vector_machine.score(test_features, test_target)*100)\n",
    "print(\"Train Score : \",train_score_support_vector_machine[:5],\"%\\nTest Score : \",test_score_support_vector_machine[:5],\"%\")\n",
    "models[\"svm\"] = test_score_support_vector_machine "
   ]
  },
  {
   "cell_type": "code",
   "execution_count": 54,
   "metadata": {},
   "outputs": [
    {
     "name": "stdout",
     "output_type": "stream",
     "text": [
      "****Model Evaluation -  Support Vector Machine **** \n",
      "\n",
      "Mean Absolute Error (MAE): 14.504930747647336\n",
      "Mean Squared Error (MSE): 367.94353317457563\n",
      "Root Mean Squared Error (RMSE): 19.181854268411477\n"
     ]
    }
   ],
   "source": [
    "print(\"****Model Evaluation -  Support Vector Machine **** \\n\")\n",
    "\n",
    "print(\"Mean Absolute Error (MAE): {}\".format(mae(test_target, support_vector_machine.predict(test_features))))\n",
    "print(\"Mean Squared Error (MSE): {}\".format(mse(test_target, support_vector_machine.predict(test_features))))\n",
    "print(\"Root Mean Squared Error (RMSE): {}\".format(np.sqrt(mse(test_target, support_vector_machine.predict(test_features)))))"
   ]
  },
  {
   "cell_type": "markdown",
   "metadata": {},
   "source": [
    "### Lasso Regression"
   ]
  },
  {
   "cell_type": "code",
   "execution_count": 55,
   "metadata": {},
   "outputs": [
    {
     "data": {
      "text/plain": [
       "LassoCV(alphas=None, copy_X=True, cv=None, eps=0.001, fit_intercept=True,\n",
       "        max_iter=1000, n_alphas=100, n_jobs=None, normalize=False,\n",
       "        positive=False, precompute='auto', random_state=None,\n",
       "        selection='cyclic', tol=0.0001, verbose=False)"
      ]
     },
     "execution_count": 55,
     "metadata": {},
     "output_type": "execute_result"
    }
   ],
   "source": [
    "from sklearn.linear_model import LassoCV\n",
    "lasso_regression = LassoCV()\n",
    "\n",
    "# the below snippet trains the data\n",
    "lasso_regression.fit(train_features, train_target)"
   ]
  },
  {
   "cell_type": "code",
   "execution_count": 56,
   "metadata": {},
   "outputs": [
    {
     "name": "stdout",
     "output_type": "stream",
     "text": [
      "Train Score :  67.30 %\n",
      "Test Score :  67.93 %\n"
     ]
    }
   ],
   "source": [
    "# Model Evaluation\n",
    "\n",
    "train_score_lasso_regression = str(lasso_regression.score(train_features, train_target)*100)\n",
    "test_score_lasso_regression = str(lasso_regression.score(test_features, test_target)*100)\n",
    "print(\"Train Score : \",train_score_lasso_regression[:5],\"%\\nTest Score : \",test_score_lasso_regression[:5],\"%\")\n",
    "models[\"lasso_regression\"] = test_score_lasso_regression"
   ]
  },
  {
   "cell_type": "code",
   "execution_count": 57,
   "metadata": {},
   "outputs": [
    {
     "name": "stdout",
     "output_type": "stream",
     "text": [
      "****Model Evaluation -  Lasso Regression **** \n",
      "\n",
      "Mean Absolute Error (MAE): 12.62365079719774\n",
      "Mean Squared Error (MSE): 286.3278743886484\n",
      "Root Mean Squared Error (RMSE): 16.921225558116305\n"
     ]
    }
   ],
   "source": [
    "print(\"****Model Evaluation -  Lasso Regression **** \\n\")\n",
    "\n",
    "print(\"Mean Absolute Error (MAE): {}\".format(mae(test_target, lasso_regression.predict(test_features))))\n",
    "print(\"Mean Squared Error (MSE): {}\".format(mse(test_target, lasso_regression.predict(test_features))))\n",
    "print(\"Root Mean Squared Error (RMSE): {}\".format(np.sqrt(mse(test_target, lasso_regression.predict(test_features)))))"
   ]
  },
  {
   "cell_type": "markdown",
   "metadata": {},
   "source": [
    "### Linear Regression"
   ]
  },
  {
   "cell_type": "code",
   "execution_count": 58,
   "metadata": {},
   "outputs": [
    {
     "data": {
      "text/plain": [
       "LinearRegression(copy_X=True, fit_intercept=True, n_jobs=None, normalize=False)"
      ]
     },
     "execution_count": 58,
     "metadata": {},
     "output_type": "execute_result"
    }
   ],
   "source": [
    "from sklearn.linear_model import LinearRegression\n",
    "linear_regression = LinearRegression()\n",
    "\n",
    "# the below snippet trains the data\n",
    "linear_regression.fit(train_features, train_target)"
   ]
  },
  {
   "cell_type": "code",
   "execution_count": 59,
   "metadata": {},
   "outputs": [
    {
     "name": "stdout",
     "output_type": "stream",
     "text": [
      "Train Score :  68.24 %\n",
      "Test Score :  68.94 %\n"
     ]
    }
   ],
   "source": [
    "# Model Evaluation\n",
    "\n",
    "train_score_linear_regression = str(linear_regression.score(train_features, train_target) * 100)\n",
    "test_score_linear_regression = str(linear_regression.score(test_features, test_target) * 100)\n",
    "print(\"Train Score : \",train_score_linear_regression[:5],\"%\\nTest Score : \",test_score_linear_regression[:5],\"%\")\n",
    "models[\"linear_regression\"] = test_score_linear_regression"
   ]
  },
  {
   "cell_type": "code",
   "execution_count": 60,
   "metadata": {},
   "outputs": [
    {
     "name": "stdout",
     "output_type": "stream",
     "text": [
      "****Model Evaluation -  Lasso Regression **** \n",
      "\n",
      "Mean Absolute Error (MAE): 12.531083844388506\n",
      "Mean Squared Error (MSE): 277.31306030750784\n",
      "Root Mean Squared Error (RMSE): 16.65271930669306\n"
     ]
    }
   ],
   "source": [
    "print(\"****Model Evaluation -  Lasso Regression **** \\n\")\n",
    "\n",
    "print(\"Mean Absolute Error (MAE): {}\".format(mae(test_target, linear_regression.predict(test_features))))\n",
    "print(\"Mean Squared Error (MSE): {}\".format(mse(test_target, linear_regression.predict(test_features))))\n",
    "print(\"Root Mean Squared Error (RMSE): {}\".format(np.sqrt(mse(test_target, linear_regression.predict(test_features)))))"
   ]
  },
  {
   "cell_type": "markdown",
   "metadata": {},
   "source": [
    "### AdaBoost Model using Linear Regression as the base learner\n"
   ]
  },
  {
   "cell_type": "code",
   "execution_count": 61,
   "metadata": {},
   "outputs": [
    {
     "data": {
      "text/plain": [
       "AdaBoostRegressor(base_estimator=LinearRegression(copy_X=True,\n",
       "                                                  fit_intercept=True,\n",
       "                                                  n_jobs=None,\n",
       "                                                  normalize=False),\n",
       "                  learning_rate=1.0, loss='linear', n_estimators=50,\n",
       "                  random_state=None)"
      ]
     },
     "execution_count": 61,
     "metadata": {},
     "output_type": "execute_result"
    }
   ],
   "source": [
    "# AdaBoost Model using Linear Regression as the base learner\n",
    "\n",
    "from sklearn.ensemble import AdaBoostRegressor\n",
    "adb_boost_regressor = AdaBoostRegressor(base_estimator=linear_regression)\n",
    "adb_boost_regressor.fit(train_features, train_target)"
   ]
  },
  {
   "cell_type": "code",
   "execution_count": 62,
   "metadata": {},
   "outputs": [
    {
     "name": "stdout",
     "output_type": "stream",
     "text": [
      "Train Score :  65.99 %\n",
      "Test Score :  66.67 %\n"
     ]
    }
   ],
   "source": [
    "# Model Evaluationn\n",
    "\n",
    "train_score_adb_boost_regressor = str(adb_boost_regressor.score(train_features, train_target) * 100)\n",
    "test_score_adb_boost_regressor = str(adb_boost_regressor.score(test_features, test_target) * 100)\n",
    "print(\"Train Score : \",train_score_adb_boost_regressor[:5],\"%\\nTest Score : \",test_score_adb_boost_regressor[:5],\"%\")\n",
    "models[\"adb\"] = test_score_adb_boost_regressor\n"
   ]
  },
  {
   "cell_type": "code",
   "execution_count": 63,
   "metadata": {},
   "outputs": [
    {
     "name": "stdout",
     "output_type": "stream",
     "text": [
      "****Model Evaluation -  AdaBoost Model using Linear Regression as the base learner **** \n",
      "\n",
      "Mean Absolute Error (MAE): 13.378012040562236\n",
      "Mean Squared Error (MSE): 297.52614427140895\n",
      "Root Mean Squared Error (RMSE): 17.248946178575924\n"
     ]
    }
   ],
   "source": [
    "print(\"****Model Evaluation -  AdaBoost Model using Linear Regression as the base learner **** \\n\")\n",
    "\n",
    "print(\"Mean Absolute Error (MAE): {}\".format(mae(test_target, adb_boost_regressor.predict(test_features))))\n",
    "print(\"Mean Squared Error (MSE): {}\".format(mse(test_target, adb_boost_regressor.predict(test_features))))\n",
    "print(\"Root Mean Squared Error (RMSE): {}\".format(np.sqrt(mse(test_target, adb_boost_regressor.predict(test_features)))))"
   ]
  },
  {
   "cell_type": "markdown",
   "metadata": {},
   "source": [
    "### Best Model "
   ]
  },
  {
   "cell_type": "code",
   "execution_count": 64,
   "metadata": {},
   "outputs": [
    {
     "name": "stderr",
     "output_type": "stream",
     "text": [
      "C:\\Users\\vimal\\anaconda3\\lib\\site-packages\\seaborn\\_decorators.py:36: FutureWarning: Pass the following variables as keyword args: x, y. From version 0.12, the only valid positional argument will be `data`, and passing other arguments without an explicit keyword will result in an error or misinterpretation.\n",
      "  warnings.warn(\n"
     ]
    },
    {
     "data": {
      "text/plain": [
       "<AxesSubplot:>"
      ]
     },
     "execution_count": 64,
     "metadata": {},
     "output_type": "execute_result"
    },
    {
     "data": {
      "image/png": "[encoded data removed]",
      "text/plain": [
       "<Figure size 1296x720 with 1 Axes>"
      ]
     },
     "metadata": {
      "needs_background": "light"
     },
     "output_type": "display_data"
    }
   ],
   "source": [
    "# Bar graph is ploted so cheeck which algorithm has performed better\n",
    "\n",
    "import matplotlib.pyplot as plt\n",
    "from seaborn import barplot\n",
    "\n",
    "figure = plt.figure(figsize=(18,10))\n",
    "\n",
    "model_names = list(models.keys())\n",
    "accuracy = list(map(float, models.values()))\n",
    "barplot(model_names, accuracy)"
   ]
  },
  {
   "cell_type": "markdown",
   "metadata": {},
   "source": [
    "Random Forest Regressor has performed well when compared to other algorithms"
   ]
  },
  {
   "cell_type": "markdown",
   "metadata": {},
   "source": [
    "# Predictions of Score using Random Forest"
   ]
  },
  {
   "cell_type": "code",
   "execution_count": 65,
   "metadata": {},
   "outputs": [],
   "source": [
    "def prediction_of_score(batting_team, bowling_team, runs, wickets, overs, runs_last_5, wickets_last_5, model = random_forest):\n",
    "  array = []\n",
    "\n",
    "  # Batting Team\n",
    "  if batting_team == 'Chennai Super Kings':\n",
    "    array = array + [1,0,0,0,0,0,0,0]\n",
    "  elif batting_team == 'Mumbai Indians':\n",
    "    array = array + [0,1,0,0,0,0,0,0]\n",
    "  elif batting_team == 'Rajasthan Royals':\n",
    "    array = array + [0,0,1,0,0,0,0,0]\n",
    "  elif batting_team == 'Kolkata Knight Riders':\n",
    "    array = array + [0,0,0,1,0,0,0,0]\n",
    "  elif batting_team == 'Kings XI Punjab':\n",
    "    array = array + [0,0,0,0,1,0,0,0]\n",
    "  elif batting_team == 'Sunrisers Hyderabad':\n",
    "    array = array + [0,0,0,0,0,1,0,0]\n",
    "  elif batting_team == 'Delhi Daredevils':\n",
    "    array = array + [0,0,0,0,0,0,1,0]\n",
    "  elif batting_team == 'Royal Challengers Bangalore':\n",
    "    array = array + [0,0,0,0,0,0,0,1]\n",
    "\n",
    "  # Bowling Team\n",
    "  if bowling_team == 'Chennai Super Kings':\n",
    "    array = array + [1,0,0,0,0,0,0,0]\n",
    "  elif bowling_team == 'Mumbai Indians':\n",
    "    array = array + [0,1,0,0,0,0,0,0]\n",
    "  elif bowling_team == 'Rajasthan Royals':\n",
    "    array = array + [0,0,1,0,0,0,0,0]\n",
    "  elif bowling_team == 'Kolkata Knight Riders':\n",
    "    array = array + [0,0,0,1,0,0,0,0]\n",
    "  elif bowling_team == 'Kings XI Punjab':\n",
    "    array = array + [0,0,0,0,1,0,0,0]\n",
    "  elif bowling_team == 'Sunrisers Hyderabad':\n",
    "    array = array + [0,0,0,0,0,1,0,0]\n",
    "  elif bowling_team == 'Delhi Daredevils':\n",
    "    array = array + [0,0,0,0,0,0,1,0]\n",
    "  elif bowling_team == 'Royal Challengers Bangalore':\n",
    "    array = array + [0,0,0,0,0,0,0,1]\n",
    "\n",
    "  array = array + [runs, wickets, overs, runs_last_5, wickets_last_5]\n",
    "  array = np.array([array])\n",
    "  predictions = model.predict(array)\n",
    "  return int(round(predictions[0]))\n"
   ]
  },
  {
   "cell_type": "markdown",
   "metadata": {},
   "source": [
    "### Testing the model with sample data\n",
    "\n",
    "- Batting Team : **Kolkata Knight Riders**\n",
    "- Bowling Team : **Royal Challengers Bangalore**\n",
    "- Final Score : **222/3**"
   ]
  },
  {
   "cell_type": "code",
   "execution_count": 66,
   "metadata": {},
   "outputs": [
    {
     "name": "stdout",
     "output_type": "stream",
     "text": [
      "Predicted Score is 169 \n",
      "Real Score is 222\n"
     ]
    }
   ],
   "source": [
    "batting_team='Kolkata Knight Riders'\n",
    "bowling_team='Royal Challengers Bangalore'\n",
    "score = prediction_of_score(batting_team, bowling_team, overs=8, runs=73, wickets=1, runs_last_5=47, wickets_last_5=1)\n",
    "print(\"Predicted Score is\",score, \"\\nReal Score is 222\")"
   ]
  },
  {
   "cell_type": "markdown",
   "metadata": {},
   "source": [
    "From the above test the score may not match because it is an exceptional case that, In cricket some times more runs are scored in last 2 or 3 overs. Since this match was high scoring game the algorithm has predicted according to that situation."
   ]
  },
  {
   "cell_type": "markdown",
   "metadata": {},
   "source": [
    "### Testing the model with sample data\n",
    "\n",
    "- Batting Team : **Rajasthan Royals**\n",
    "- Bowling Team : **Delhi Daredevils**\n",
    "- Final Score : **129/8**"
   ]
  },
  {
   "cell_type": "code",
   "execution_count": 67,
   "metadata": {},
   "outputs": [
    {
     "name": "stdout",
     "output_type": "stream",
     "text": [
      "Predicted Score is  127 \n",
      "Real Score is 129\n"
     ]
    }
   ],
   "source": [
    "batting_team='Rajasthan Royals'\n",
    "bowling_team='Delhi Daredevils'\n",
    "score = prediction_of_score(batting_team, bowling_team, overs=10, runs=57, wickets=4, runs_last_5=20, wickets_last_5=2)\n",
    "print(\"Predicted Score is \",score, \"\\nReal Score is 129\")"
   ]
  },
  {
   "cell_type": "markdown",
   "metadata": {},
   "source": [
    "### Testing the model with sample data\n",
    "\n",
    "- Batting Team : **Royal Challengers Bangalore**\n",
    "- Bowling Team : **Delhi Daredevils**\n",
    "- Final Score : 161/6"
   ]
  },
  {
   "cell_type": "code",
   "execution_count": 68,
   "metadata": {},
   "outputs": [
    {
     "name": "stdout",
     "output_type": "stream",
     "text": [
      "Predicted Score is  195 \n",
      "Real Score is 161\n"
     ]
    }
   ],
   "source": [
    "batting_team='Royal Challengers Bangalore'\n",
    "bowling_team='Delhi Daredevils'\n",
    "score = prediction_of_score(batting_team, bowling_team, overs=13, runs=96, wickets=1, runs_last_5=48, wickets_last_5=0)\n",
    "print(\"Predicted Score is \",score, \"\\nReal Score is 161\")"
   ]
  },
  {
   "cell_type": "markdown",
   "metadata": {},
   "source": [
    "T20 Cricket is unpredictable, one over or one main wicket can change the whole game, even though it is tough to predict the socre machine learning have performed with good accuracy  "
   ]
  },
  {
   "cell_type": "markdown",
   "metadata": {},
   "source": [
    "# Save the Models"
   ]
  },
  {
   "cell_type": "code",
   "execution_count": 69,
   "metadata": {},
   "outputs": [
    {
     "data": {
      "text/plain": [
       "['k_nearest_neighbors.pkl']"
      ]
     },
     "execution_count": 69,
     "metadata": {},
     "output_type": "execute_result"
    }
   ],
   "source": [
    "from joblib import dump\n",
    "\n",
    "dump(random_forest, \"random_forest.pkl\")\n",
    "dump(neural_networks, \"neural_networks.pkl\")\n",
    "dump(decision_tree, \"decision_tree.pkl\")\n",
    "dump(KNN, \"k_nearest_neighbors.pkl\")\n"
   ]
  }
 ],
 "metadata": {
  "kernelspec": {
   "display_name": "Python 3",
   "language": "python",
   "name": "python3"
  },
  "language_info": {
   "codemirror_mode": {
    "name": "ipython",
    "version": 3
   },
   "file_extension": ".py",
   "mimetype": "text/x-python",
   "name": "python",
   "nbconvert_exporter": "python",
   "pygments_lexer": "ipython3",
   "version": "3.8.5"
  }
 },
 "nbformat": 4,
 "nbformat_minor": 4
}
